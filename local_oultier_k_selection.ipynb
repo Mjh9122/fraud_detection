{
 "cells": [
  {
   "cell_type": "code",
   "execution_count": 36,
   "metadata": {},
   "outputs": [],
   "source": [
    "import numpy as np\n",
    "import pandas as pd\n",
    "import seaborn as sns\n",
    "\n",
    "\n",
    "from sklearn.neighbors import LocalOutlierFactor\n",
    "from sklearn.model_selection import train_test_split\n",
    "from sklearn.metrics import f1_score, accuracy_score, matthews_corrcoef, precision_score, roc_auc_score, recall_score, average_precision_score\n",
    "from tqdm import tqdm\n",
    "from matplotlib import pyplot as plt\n",
    "\n",
    "from IPython.display import clear_output"
   ]
  },
  {
   "cell_type": "code",
   "execution_count": 37,
   "metadata": {},
   "outputs": [],
   "source": [
    "y_train = pd.read_csv('../fraud_detection/active_datasets/y_train.csv', header=None).to_numpy().ravel()\n",
    "y_test = pd.read_csv('../fraud_detection/active_datasets/y_test.csv', header=None).to_numpy().ravel()"
   ]
  },
  {
   "cell_type": "code",
   "execution_count": 38,
   "metadata": {},
   "outputs": [
    {
     "data": {
      "text/html": [
       "<div>\n",
       "<style scoped>\n",
       "    .dataframe tbody tr th:only-of-type {\n",
       "        vertical-align: middle;\n",
       "    }\n",
       "\n",
       "    .dataframe tbody tr th {\n",
       "        vertical-align: top;\n",
       "    }\n",
       "\n",
       "    .dataframe thead th {\n",
       "        text-align: right;\n",
       "    }\n",
       "</style>\n",
       "<table border=\"1\" class=\"dataframe\">\n",
       "  <thead>\n",
       "    <tr style=\"text-align: right;\">\n",
       "      <th></th>\n",
       "      <th>customer</th>\n",
       "      <th>merchant</th>\n",
       "      <th>category</th>\n",
       "      <th>amount</th>\n",
       "      <th>fraud</th>\n",
       "    </tr>\n",
       "  </thead>\n",
       "  <tbody>\n",
       "    <tr>\n",
       "      <th>70803</th>\n",
       "      <td>C746862122</td>\n",
       "      <td>M348934600</td>\n",
       "      <td>es_transportation</td>\n",
       "      <td>11.65</td>\n",
       "      <td>0</td>\n",
       "    </tr>\n",
       "    <tr>\n",
       "      <th>470791</th>\n",
       "      <td>C1760492708</td>\n",
       "      <td>M1823072687</td>\n",
       "      <td>es_transportation</td>\n",
       "      <td>1.60</td>\n",
       "      <td>0</td>\n",
       "    </tr>\n",
       "    <tr>\n",
       "      <th>568310</th>\n",
       "      <td>C1984083185</td>\n",
       "      <td>M1823072687</td>\n",
       "      <td>es_transportation</td>\n",
       "      <td>33.36</td>\n",
       "      <td>0</td>\n",
       "    </tr>\n",
       "    <tr>\n",
       "      <th>23709</th>\n",
       "      <td>C1530262146</td>\n",
       "      <td>M1823072687</td>\n",
       "      <td>es_transportation</td>\n",
       "      <td>8.01</td>\n",
       "      <td>0</td>\n",
       "    </tr>\n",
       "    <tr>\n",
       "      <th>49723</th>\n",
       "      <td>C1471216995</td>\n",
       "      <td>M348934600</td>\n",
       "      <td>es_transportation</td>\n",
       "      <td>38.11</td>\n",
       "      <td>0</td>\n",
       "    </tr>\n",
       "  </tbody>\n",
       "</table>\n",
       "</div>"
      ],
      "text/plain": [
       "           customer     merchant           category  amount  fraud\n",
       "70803    C746862122   M348934600  es_transportation   11.65      0\n",
       "470791  C1760492708  M1823072687  es_transportation    1.60      0\n",
       "568310  C1984083185  M1823072687  es_transportation   33.36      0\n",
       "23709   C1530262146  M1823072687  es_transportation    8.01      0\n",
       "49723   C1471216995   M348934600  es_transportation   38.11      0"
      ]
     },
     "execution_count": 38,
     "metadata": {},
     "output_type": "execute_result"
    }
   ],
   "source": [
    "df = pd.read_csv('./dataset_makers/original_data.csv')\n",
    "df.replace(\"'\",'', regex=True, inplace=True) \n",
    "df.drop(columns = ['step', 'age', 'gender', 'zipcodeOri', 'zipMerchant'], inplace=True)\n",
    "train, test = train_test_split(df, random_state=42)\n",
    "test.head()"
   ]
  },
  {
   "cell_type": "code",
   "execution_count": 39,
   "metadata": {},
   "outputs": [
    {
     "name": "stdout",
     "output_type": "stream",
     "text": [
      "2 2 2\n",
      "2 2 3\n",
      "2 2 4\n",
      "2 2 5\n",
      "2 3 2\n",
      "2 3 3\n",
      "2 3 4\n",
      "2 3 5\n",
      "2 4 2\n",
      "2 4 3\n",
      "2 4 4\n",
      "2 4 5\n",
      "2 5 2\n",
      "2 5 3\n",
      "2 5 4\n",
      "2 5 5\n",
      "3 2 2\n",
      "3 2 3\n",
      "3 2 4\n",
      "3 2 5\n",
      "3 3 2\n",
      "3 3 3\n",
      "3 3 4\n",
      "3 3 5\n",
      "3 4 2\n",
      "3 4 3\n",
      "3 4 4\n",
      "3 4 5\n",
      "3 5 2\n",
      "3 5 3\n",
      "3 5 4\n",
      "3 5 5\n",
      "4 2 2\n",
      "4 2 3\n",
      "4 2 4\n",
      "4 2 5\n",
      "4 3 2\n",
      "4 3 3\n",
      "4 3 4\n",
      "4 3 5\n",
      "4 4 2\n",
      "4 4 3\n",
      "4 4 4\n",
      "4 4 5\n",
      "4 5 2\n",
      "4 5 3\n",
      "4 5 4\n",
      "4 5 5\n",
      "5 2 2\n",
      "5 2 3\n",
      "5 2 4\n",
      "5 2 5\n",
      "5 3 2\n",
      "5 3 3\n",
      "5 3 4\n",
      "5 3 5\n",
      "5 4 2\n",
      "5 4 3\n",
      "5 4 4\n",
      "5 4 5\n",
      "5 5 2\n",
      "5 5 3\n",
      "5 5 4\n",
      "5 5 5\n"
     ]
    },
    {
     "data": {
      "text/plain": [
       "dict_keys([('c', 2, 2, 2), ('q', 2, 2, 2), ('c', 2, 2, 3), ('q', 2, 2, 3), ('c', 2, 2, 4), ('q', 2, 2, 4), ('c', 2, 2, 5), ('q', 2, 2, 5), ('c', 2, 3, 2), ('q', 2, 3, 2), ('c', 2, 3, 3), ('q', 2, 3, 3), ('c', 2, 3, 4), ('q', 2, 3, 4), ('c', 2, 3, 5), ('q', 2, 3, 5), ('c', 2, 4, 2), ('q', 2, 4, 2), ('c', 2, 4, 3), ('q', 2, 4, 3), ('c', 2, 4, 4), ('q', 2, 4, 4), ('c', 2, 4, 5), ('q', 2, 4, 5), ('c', 2, 5, 2), ('q', 2, 5, 2), ('c', 2, 5, 3), ('q', 2, 5, 3), ('c', 2, 5, 4), ('q', 2, 5, 4), ('c', 2, 5, 5), ('q', 2, 5, 5), ('c', 3, 2, 2), ('q', 3, 2, 2), ('c', 3, 2, 3), ('q', 3, 2, 3), ('c', 3, 2, 4), ('q', 3, 2, 4), ('c', 3, 2, 5), ('q', 3, 2, 5), ('c', 3, 3, 2), ('q', 3, 3, 2), ('c', 3, 3, 3), ('q', 3, 3, 3), ('c', 3, 3, 4), ('q', 3, 3, 4), ('c', 3, 3, 5), ('q', 3, 3, 5), ('c', 3, 4, 2), ('q', 3, 4, 2), ('c', 3, 4, 3), ('q', 3, 4, 3), ('c', 3, 4, 4), ('q', 3, 4, 4), ('c', 3, 4, 5), ('q', 3, 4, 5), ('c', 3, 5, 2), ('q', 3, 5, 2), ('c', 3, 5, 3), ('q', 3, 5, 3), ('c', 3, 5, 4), ('q', 3, 5, 4), ('c', 3, 5, 5), ('q', 3, 5, 5), ('c', 4, 2, 2), ('q', 4, 2, 2), ('c', 4, 2, 3), ('q', 4, 2, 3), ('c', 4, 2, 4), ('q', 4, 2, 4), ('c', 4, 2, 5), ('q', 4, 2, 5), ('c', 4, 3, 2), ('q', 4, 3, 2), ('c', 4, 3, 3), ('q', 4, 3, 3), ('c', 4, 3, 4), ('q', 4, 3, 4), ('c', 4, 3, 5), ('q', 4, 3, 5), ('c', 4, 4, 2), ('q', 4, 4, 2), ('c', 4, 4, 3), ('q', 4, 4, 3), ('c', 4, 4, 4), ('q', 4, 4, 4), ('c', 4, 4, 5), ('q', 4, 4, 5), ('c', 4, 5, 2), ('q', 4, 5, 2), ('c', 4, 5, 3), ('q', 4, 5, 3), ('c', 4, 5, 4), ('q', 4, 5, 4), ('c', 4, 5, 5), ('q', 4, 5, 5), ('c', 5, 2, 2), ('q', 5, 2, 2), ('c', 5, 2, 3), ('q', 5, 2, 3), ('c', 5, 2, 4), ('q', 5, 2, 4), ('c', 5, 2, 5), ('q', 5, 2, 5), ('c', 5, 3, 2), ('q', 5, 3, 2), ('c', 5, 3, 3), ('q', 5, 3, 3), ('c', 5, 3, 4), ('q', 5, 3, 4), ('c', 5, 3, 5), ('q', 5, 3, 5), ('c', 5, 4, 2), ('q', 5, 4, 2), ('c', 5, 4, 3), ('q', 5, 4, 3), ('c', 5, 4, 4), ('q', 5, 4, 4), ('c', 5, 4, 5), ('q', 5, 4, 5), ('c', 5, 5, 2), ('q', 5, 5, 2), ('c', 5, 5, 3), ('q', 5, 5, 3), ('c', 5, 5, 4), ('q', 5, 5, 4), ('c', 5, 5, 5), ('q', 5, 5, 5)])"
      ]
     },
     "execution_count": 39,
     "metadata": {},
     "output_type": "execute_result"
    }
   ],
   "source": [
    "datasets = dict()\n",
    "for bin_merchant in range(2, 6):\n",
    "    c_cut_merchant = test.copy()\n",
    "    q_cut_merchant = test.copy()\n",
    "\n",
    "    c_merchant_fraud_rate = pd.cut(train.groupby('merchant').mean('fraud')['fraud'], bins = bin_merchant, labels=False)\n",
    "    c_cut_merchant['merchant fraud rate'] = test['merchant'].apply(lambda x: c_merchant_fraud_rate.get(x))\n",
    "\n",
    "    q_merchant_fraud_rate = pd.qcut(train.groupby('merchant').mean('fraud')['fraud'], bin_merchant, labels=False, duplicates='drop')\n",
    "    q_cut_merchant['merchant fraud rate'] = test['merchant'].apply(lambda x: q_merchant_fraud_rate.get(x))\n",
    "    for bin_customer in range(2, 6):\n",
    "        c_cut_customer = c_cut_merchant.copy()\n",
    "        q_cut_customer = q_cut_merchant.copy()\n",
    "        c_customer_fraud_rate = pd.cut(train.groupby('customer').mean('fraud')['fraud'], bins = bin_customer, labels=False)\n",
    "        c_cut_customer['customer fraud rate'] = test['customer'].apply(lambda x: c_customer_fraud_rate.get(x))\n",
    "\n",
    "        q_customer_fraud_rate = pd.qcut(train.groupby('customer').mean('fraud')['fraud'], bin_customer, labels=False, duplicates='drop')\n",
    "        q_cut_customer['customer fraud rate'] = test['customer'].apply(lambda x: q_customer_fraud_rate.get(x))\n",
    "        for bin_category in range(2, 6):\n",
    "            print(bin_merchant, bin_customer, bin_category)\n",
    "            c_cut_category = c_cut_customer.copy()\n",
    "            q_cut_category = q_cut_customer.copy()\n",
    "            c_category_fraud_rate = pd.cut(train.groupby('category').mean('fraud')['fraud'], bins = bin_category, labels=False)\n",
    "            c_cut_category['category fraud rate'] = test['category'].apply(lambda x: c_category_fraud_rate.get(x))\n",
    "\n",
    "            q_category_fraud_rate = pd.qcut(train.groupby('category').mean('fraud')['fraud'], bin_category, labels=False, duplicates='drop')\n",
    "            q_cut_category['category fraud rate'] = test['category'].apply(lambda x: q_category_fraud_rate.get(x))\n",
    "\n",
    "            if c_cut_category.isna().sum().sum() > 0 or q_cut_category.isna().sum().sum() > 0:\n",
    "                print('AHHHHHHHHHHHHHHHHHHHHH', c_cut_category.isna().sum().sum(), q_cut_category.isna().sum().sum())\n",
    "\n",
    "            q_cut_category.drop(columns = ['merchant', 'customer', 'category'], inplace=True)\n",
    "            c_cut_category.drop(columns = ['merchant', 'customer', 'category'], inplace=True)\n",
    "            \n",
    "            datasets[('c', bin_merchant, bin_customer, bin_category)] = c_cut_category\n",
    "            datasets[('q', bin_merchant, bin_customer, bin_category)] = q_cut_category\n",
    "\n",
    "\n",
    "\n",
    "datasets.keys()"
   ]
  },
  {
   "cell_type": "code",
   "execution_count": 40,
   "metadata": {},
   "outputs": [],
   "source": [
    "def score(y_pred, y_true):\n",
    "        scores = {}\n",
    "        evaluation_funcs = {'accuracy':accuracy_score, 'precision':precision_score, 'recall':recall_score, 'f1':f1_score, 'MCC':matthews_corrcoef}\n",
    "        for name, score in evaluation_funcs.items():\n",
    "                scores[name] = score(y_pred = y_pred, y_true = y_true)\n",
    "        scores['ROC-AUC'] = roc_auc_score(y_score = y_pred, y_true = y_true)\n",
    "        scores['AUPR'] = average_precision_score(y_score = y_pred, y_true = y_true)\n",
    "        return scores"
   ]
  },
  {
   "cell_type": "code",
   "execution_count": 41,
   "metadata": {},
   "outputs": [
    {
     "data": {
      "image/png": "[encoded data removed]",
      "text/plain": [
       "<Figure size 1000x1000 with 1 Axes>"
      ]
     },
     "metadata": {},
     "output_type": "display_data"
    },
    {
     "name": "stderr",
     "output_type": "stream",
     "text": [
      " 11%|█         | 14/128 [36:30<4:57:20, 156.49s/it]\n"
     ]
    },
    {
     "ename": "KeyboardInterrupt",
     "evalue": "",
     "output_type": "error",
     "traceback": [
      "\u001b[1;31m---------------------------------------------------------------------------\u001b[0m",
      "\u001b[1;31mKeyboardInterrupt\u001b[0m                         Traceback (most recent call last)",
      "\u001b[1;32mc:\\Users\\Micha\\Documents\\GitHub\\fraud_detection\\local_oultier_k_selection.ipynb Cell 6\u001b[0m line \u001b[0;36m9\n\u001b[0;32m      <a href='vscode-notebook-cell:/c%3A/Users/Micha/Documents/GitHub/fraud_detection/local_oultier_k_selection.ipynb#W4sZmlsZQ%3D%3D?line=6'>7</a>\u001b[0m \u001b[39mfor\u001b[39;00m name, data \u001b[39min\u001b[39;00m tqdm(datasets\u001b[39m.\u001b[39mitems()):\n\u001b[0;32m      <a href='vscode-notebook-cell:/c%3A/Users/Micha/Documents/GitHub/fraud_detection/local_oultier_k_selection.ipynb#W4sZmlsZQ%3D%3D?line=7'>8</a>\u001b[0m     LOF \u001b[39m=\u001b[39m LocalOutlierFactor(n_neighbors \u001b[39m=\u001b[39m k, contamination\u001b[39m=\u001b[39m\u001b[39msum\u001b[39m(y_train)\u001b[39m/\u001b[39m\u001b[39mlen\u001b[39m(y_train))\n\u001b[1;32m----> <a href='vscode-notebook-cell:/c%3A/Users/Micha/Documents/GitHub/fraud_detection/local_oultier_k_selection.ipynb#W4sZmlsZQ%3D%3D?line=8'>9</a>\u001b[0m     y_pred \u001b[39m=\u001b[39m LOF\u001b[39m.\u001b[39;49mfit_predict(data)\n\u001b[0;32m     <a href='vscode-notebook-cell:/c%3A/Users/Micha/Documents/GitHub/fraud_detection/local_oultier_k_selection.ipynb#W4sZmlsZQ%3D%3D?line=9'>10</a>\u001b[0m     y_pred \u001b[39m=\u001b[39m \u001b[39mlist\u001b[39m(\u001b[39mmap\u001b[39m(\u001b[39mlambda\u001b[39;00m x: {\u001b[39m-\u001b[39m\u001b[39m1\u001b[39m:\u001b[39m1\u001b[39m, \u001b[39m1\u001b[39m:\u001b[39m0\u001b[39m}[x], y_pred))\n\u001b[0;32m     <a href='vscode-notebook-cell:/c%3A/Users/Micha/Documents/GitHub/fraud_detection/local_oultier_k_selection.ipynb#W4sZmlsZQ%3D%3D?line=10'>11</a>\u001b[0m     scores[name]\u001b[39m.\u001b[39mappend(score(y_pred, y_test))\n",
      "File \u001b[1;32mc:\\Users\\Micha\\AppData\\Local\\Programs\\Python\\Python311\\Lib\\site-packages\\sklearn\\neighbors\\_lof.py:257\u001b[0m, in \u001b[0;36mLocalOutlierFactor.fit_predict\u001b[1;34m(self, X, y)\u001b[0m\n\u001b[0;32m    233\u001b[0m \u001b[39m\"\"\"Fit the model to the training set X and return the labels.\u001b[39;00m\n\u001b[0;32m    234\u001b[0m \n\u001b[0;32m    235\u001b[0m \u001b[39m**Not available for novelty detection (when novelty is set to True).**\u001b[39;00m\n\u001b[1;32m   (...)\u001b[0m\n\u001b[0;32m    251\u001b[0m \u001b[39m    Returns -1 for anomalies/outliers and 1 for inliers.\u001b[39;00m\n\u001b[0;32m    252\u001b[0m \u001b[39m\"\"\"\u001b[39;00m\n\u001b[0;32m    254\u001b[0m \u001b[39m# As fit_predict would be different from fit.predict, fit_predict is\u001b[39;00m\n\u001b[0;32m    255\u001b[0m \u001b[39m# only available for outlier detection (novelty=False)\u001b[39;00m\n\u001b[1;32m--> 257\u001b[0m \u001b[39mreturn\u001b[39;00m \u001b[39mself\u001b[39;49m\u001b[39m.\u001b[39;49mfit(X)\u001b[39m.\u001b[39m_predict()\n",
      "File \u001b[1;32mc:\\Users\\Micha\\AppData\\Local\\Programs\\Python\\Python311\\Lib\\site-packages\\sklearn\\neighbors\\_lof.py:290\u001b[0m, in \u001b[0;36mLocalOutlierFactor.fit\u001b[1;34m(self, X, y)\u001b[0m\n\u001b[0;32m    282\u001b[0m     warnings\u001b[39m.\u001b[39mwarn(\n\u001b[0;32m    283\u001b[0m         \u001b[39m\"\u001b[39m\u001b[39mn_neighbors (\u001b[39m\u001b[39m%s\u001b[39;00m\u001b[39m) is greater than the \u001b[39m\u001b[39m\"\u001b[39m\n\u001b[0;32m    284\u001b[0m         \u001b[39m\"\u001b[39m\u001b[39mtotal number of samples (\u001b[39m\u001b[39m%s\u001b[39;00m\u001b[39m). n_neighbors \u001b[39m\u001b[39m\"\u001b[39m\n\u001b[0;32m    285\u001b[0m         \u001b[39m\"\u001b[39m\u001b[39mwill be set to (n_samples - 1) for estimation.\u001b[39m\u001b[39m\"\u001b[39m\n\u001b[0;32m    286\u001b[0m         \u001b[39m%\u001b[39m (\u001b[39mself\u001b[39m\u001b[39m.\u001b[39mn_neighbors, n_samples)\n\u001b[0;32m    287\u001b[0m     )\n\u001b[0;32m    288\u001b[0m \u001b[39mself\u001b[39m\u001b[39m.\u001b[39mn_neighbors_ \u001b[39m=\u001b[39m \u001b[39mmax\u001b[39m(\u001b[39m1\u001b[39m, \u001b[39mmin\u001b[39m(\u001b[39mself\u001b[39m\u001b[39m.\u001b[39mn_neighbors, n_samples \u001b[39m-\u001b[39m \u001b[39m1\u001b[39m))\n\u001b[1;32m--> 290\u001b[0m \u001b[39mself\u001b[39m\u001b[39m.\u001b[39m_distances_fit_X_, _neighbors_indices_fit_X_ \u001b[39m=\u001b[39m \u001b[39mself\u001b[39;49m\u001b[39m.\u001b[39;49mkneighbors(\n\u001b[0;32m    291\u001b[0m     n_neighbors\u001b[39m=\u001b[39;49m\u001b[39mself\u001b[39;49m\u001b[39m.\u001b[39;49mn_neighbors_\n\u001b[0;32m    292\u001b[0m )\n\u001b[0;32m    294\u001b[0m \u001b[39mif\u001b[39;00m \u001b[39mself\u001b[39m\u001b[39m.\u001b[39m_fit_X\u001b[39m.\u001b[39mdtype \u001b[39m==\u001b[39m np\u001b[39m.\u001b[39mfloat32:\n\u001b[0;32m    295\u001b[0m     \u001b[39mself\u001b[39m\u001b[39m.\u001b[39m_distances_fit_X_ \u001b[39m=\u001b[39m \u001b[39mself\u001b[39m\u001b[39m.\u001b[39m_distances_fit_X_\u001b[39m.\u001b[39mastype(\n\u001b[0;32m    296\u001b[0m         \u001b[39mself\u001b[39m\u001b[39m.\u001b[39m_fit_X\u001b[39m.\u001b[39mdtype,\n\u001b[0;32m    297\u001b[0m         copy\u001b[39m=\u001b[39m\u001b[39mFalse\u001b[39;00m,\n\u001b[0;32m    298\u001b[0m     )\n",
      "File \u001b[1;32mc:\\Users\\Micha\\AppData\\Local\\Programs\\Python\\Python311\\Lib\\site-packages\\sklearn\\neighbors\\_base.py:879\u001b[0m, in \u001b[0;36mKNeighborsMixin.kneighbors\u001b[1;34m(self, X, n_neighbors, return_distance)\u001b[0m\n\u001b[0;32m    873\u001b[0m     \u001b[39mif\u001b[39;00m issparse(X):\n\u001b[0;32m    874\u001b[0m         \u001b[39mraise\u001b[39;00m \u001b[39mValueError\u001b[39;00m(\n\u001b[0;32m    875\u001b[0m             \u001b[39m\"\u001b[39m\u001b[39m%s\u001b[39;00m\u001b[39m does not work with sparse matrices. Densify the data, \u001b[39m\u001b[39m\"\u001b[39m\n\u001b[0;32m    876\u001b[0m             \u001b[39m\"\u001b[39m\u001b[39mor set algorithm=\u001b[39m\u001b[39m'\u001b[39m\u001b[39mbrute\u001b[39m\u001b[39m'\u001b[39m\u001b[39m\"\u001b[39m\n\u001b[0;32m    877\u001b[0m             \u001b[39m%\u001b[39m \u001b[39mself\u001b[39m\u001b[39m.\u001b[39m_fit_method\n\u001b[0;32m    878\u001b[0m         )\n\u001b[1;32m--> 879\u001b[0m     chunked_results \u001b[39m=\u001b[39m Parallel(n_jobs, prefer\u001b[39m=\u001b[39;49m\u001b[39m\"\u001b[39;49m\u001b[39mthreads\u001b[39;49m\u001b[39m\"\u001b[39;49m)(\n\u001b[0;32m    880\u001b[0m         delayed(_tree_query_parallel_helper)(\n\u001b[0;32m    881\u001b[0m             \u001b[39mself\u001b[39;49m\u001b[39m.\u001b[39;49m_tree, X[s], n_neighbors, return_distance\n\u001b[0;32m    882\u001b[0m         )\n\u001b[0;32m    883\u001b[0m         \u001b[39mfor\u001b[39;49;00m s \u001b[39min\u001b[39;49;00m gen_even_slices(X\u001b[39m.\u001b[39;49mshape[\u001b[39m0\u001b[39;49m], n_jobs)\n\u001b[0;32m    884\u001b[0m     )\n\u001b[0;32m    885\u001b[0m \u001b[39melse\u001b[39;00m:\n\u001b[0;32m    886\u001b[0m     \u001b[39mraise\u001b[39;00m \u001b[39mValueError\u001b[39;00m(\u001b[39m\"\u001b[39m\u001b[39minternal: _fit_method not recognized\u001b[39m\u001b[39m\"\u001b[39m)\n",
      "File \u001b[1;32mc:\\Users\\Micha\\AppData\\Local\\Programs\\Python\\Python311\\Lib\\site-packages\\sklearn\\utils\\parallel.py:63\u001b[0m, in \u001b[0;36mParallel.__call__\u001b[1;34m(self, iterable)\u001b[0m\n\u001b[0;32m     58\u001b[0m config \u001b[39m=\u001b[39m get_config()\n\u001b[0;32m     59\u001b[0m iterable_with_config \u001b[39m=\u001b[39m (\n\u001b[0;32m     60\u001b[0m     (_with_config(delayed_func, config), args, kwargs)\n\u001b[0;32m     61\u001b[0m     \u001b[39mfor\u001b[39;00m delayed_func, args, kwargs \u001b[39min\u001b[39;00m iterable\n\u001b[0;32m     62\u001b[0m )\n\u001b[1;32m---> 63\u001b[0m \u001b[39mreturn\u001b[39;00m \u001b[39msuper\u001b[39;49m()\u001b[39m.\u001b[39;49m\u001b[39m__call__\u001b[39;49m(iterable_with_config)\n",
      "File \u001b[1;32mc:\\Users\\Micha\\AppData\\Local\\Programs\\Python\\Python311\\Lib\\site-packages\\joblib\\parallel.py:1085\u001b[0m, in \u001b[0;36mParallel.__call__\u001b[1;34m(self, iterable)\u001b[0m\n\u001b[0;32m   1076\u001b[0m \u001b[39mtry\u001b[39;00m:\n\u001b[0;32m   1077\u001b[0m     \u001b[39m# Only set self._iterating to True if at least a batch\u001b[39;00m\n\u001b[0;32m   1078\u001b[0m     \u001b[39m# was dispatched. In particular this covers the edge\u001b[39;00m\n\u001b[1;32m   (...)\u001b[0m\n\u001b[0;32m   1082\u001b[0m     \u001b[39m# was very quick and its callback already dispatched all the\u001b[39;00m\n\u001b[0;32m   1083\u001b[0m     \u001b[39m# remaining jobs.\u001b[39;00m\n\u001b[0;32m   1084\u001b[0m     \u001b[39mself\u001b[39m\u001b[39m.\u001b[39m_iterating \u001b[39m=\u001b[39m \u001b[39mFalse\u001b[39;00m\n\u001b[1;32m-> 1085\u001b[0m     \u001b[39mif\u001b[39;00m \u001b[39mself\u001b[39;49m\u001b[39m.\u001b[39;49mdispatch_one_batch(iterator):\n\u001b[0;32m   1086\u001b[0m         \u001b[39mself\u001b[39m\u001b[39m.\u001b[39m_iterating \u001b[39m=\u001b[39m \u001b[39mself\u001b[39m\u001b[39m.\u001b[39m_original_iterator \u001b[39mis\u001b[39;00m \u001b[39mnot\u001b[39;00m \u001b[39mNone\u001b[39;00m\n\u001b[0;32m   1088\u001b[0m     \u001b[39mwhile\u001b[39;00m \u001b[39mself\u001b[39m\u001b[39m.\u001b[39mdispatch_one_batch(iterator):\n",
      "File \u001b[1;32mc:\\Users\\Micha\\AppData\\Local\\Programs\\Python\\Python311\\Lib\\site-packages\\joblib\\parallel.py:901\u001b[0m, in \u001b[0;36mParallel.dispatch_one_batch\u001b[1;34m(self, iterator)\u001b[0m\n\u001b[0;32m    899\u001b[0m     \u001b[39mreturn\u001b[39;00m \u001b[39mFalse\u001b[39;00m\n\u001b[0;32m    900\u001b[0m \u001b[39melse\u001b[39;00m:\n\u001b[1;32m--> 901\u001b[0m     \u001b[39mself\u001b[39;49m\u001b[39m.\u001b[39;49m_dispatch(tasks)\n\u001b[0;32m    902\u001b[0m     \u001b[39mreturn\u001b[39;00m \u001b[39mTrue\u001b[39;00m\n",
      "File \u001b[1;32mc:\\Users\\Micha\\AppData\\Local\\Programs\\Python\\Python311\\Lib\\site-packages\\joblib\\parallel.py:819\u001b[0m, in \u001b[0;36mParallel._dispatch\u001b[1;34m(self, batch)\u001b[0m\n\u001b[0;32m    817\u001b[0m \u001b[39mwith\u001b[39;00m \u001b[39mself\u001b[39m\u001b[39m.\u001b[39m_lock:\n\u001b[0;32m    818\u001b[0m     job_idx \u001b[39m=\u001b[39m \u001b[39mlen\u001b[39m(\u001b[39mself\u001b[39m\u001b[39m.\u001b[39m_jobs)\n\u001b[1;32m--> 819\u001b[0m     job \u001b[39m=\u001b[39m \u001b[39mself\u001b[39;49m\u001b[39m.\u001b[39;49m_backend\u001b[39m.\u001b[39;49mapply_async(batch, callback\u001b[39m=\u001b[39;49mcb)\n\u001b[0;32m    820\u001b[0m     \u001b[39m# A job can complete so quickly than its callback is\u001b[39;00m\n\u001b[0;32m    821\u001b[0m     \u001b[39m# called before we get here, causing self._jobs to\u001b[39;00m\n\u001b[0;32m    822\u001b[0m     \u001b[39m# grow. To ensure correct results ordering, .insert is\u001b[39;00m\n\u001b[0;32m    823\u001b[0m     \u001b[39m# used (rather than .append) in the following line\u001b[39;00m\n\u001b[0;32m    824\u001b[0m     \u001b[39mself\u001b[39m\u001b[39m.\u001b[39m_jobs\u001b[39m.\u001b[39minsert(job_idx, job)\n",
      "File \u001b[1;32mc:\\Users\\Micha\\AppData\\Local\\Programs\\Python\\Python311\\Lib\\site-packages\\joblib\\_parallel_backends.py:208\u001b[0m, in \u001b[0;36mSequentialBackend.apply_async\u001b[1;34m(self, func, callback)\u001b[0m\n\u001b[0;32m    206\u001b[0m \u001b[39mdef\u001b[39;00m \u001b[39mapply_async\u001b[39m(\u001b[39mself\u001b[39m, func, callback\u001b[39m=\u001b[39m\u001b[39mNone\u001b[39;00m):\n\u001b[0;32m    207\u001b[0m     \u001b[39m\"\"\"Schedule a func to be run\"\"\"\u001b[39;00m\n\u001b[1;32m--> 208\u001b[0m     result \u001b[39m=\u001b[39m ImmediateResult(func)\n\u001b[0;32m    209\u001b[0m     \u001b[39mif\u001b[39;00m callback:\n\u001b[0;32m    210\u001b[0m         callback(result)\n",
      "File \u001b[1;32mc:\\Users\\Micha\\AppData\\Local\\Programs\\Python\\Python311\\Lib\\site-packages\\joblib\\_parallel_backends.py:597\u001b[0m, in \u001b[0;36mImmediateResult.__init__\u001b[1;34m(self, batch)\u001b[0m\n\u001b[0;32m    594\u001b[0m \u001b[39mdef\u001b[39;00m \u001b[39m__init__\u001b[39m(\u001b[39mself\u001b[39m, batch):\n\u001b[0;32m    595\u001b[0m     \u001b[39m# Don't delay the application, to avoid keeping the input\u001b[39;00m\n\u001b[0;32m    596\u001b[0m     \u001b[39m# arguments in memory\u001b[39;00m\n\u001b[1;32m--> 597\u001b[0m     \u001b[39mself\u001b[39m\u001b[39m.\u001b[39mresults \u001b[39m=\u001b[39m batch()\n",
      "File \u001b[1;32mc:\\Users\\Micha\\AppData\\Local\\Programs\\Python\\Python311\\Lib\\site-packages\\joblib\\parallel.py:288\u001b[0m, in \u001b[0;36mBatchedCalls.__call__\u001b[1;34m(self)\u001b[0m\n\u001b[0;32m    284\u001b[0m \u001b[39mdef\u001b[39;00m \u001b[39m__call__\u001b[39m(\u001b[39mself\u001b[39m):\n\u001b[0;32m    285\u001b[0m     \u001b[39m# Set the default nested backend to self._backend but do not set the\u001b[39;00m\n\u001b[0;32m    286\u001b[0m     \u001b[39m# change the default number of processes to -1\u001b[39;00m\n\u001b[0;32m    287\u001b[0m     \u001b[39mwith\u001b[39;00m parallel_backend(\u001b[39mself\u001b[39m\u001b[39m.\u001b[39m_backend, n_jobs\u001b[39m=\u001b[39m\u001b[39mself\u001b[39m\u001b[39m.\u001b[39m_n_jobs):\n\u001b[1;32m--> 288\u001b[0m         \u001b[39mreturn\u001b[39;00m [func(\u001b[39m*\u001b[39;49margs, \u001b[39m*\u001b[39;49m\u001b[39m*\u001b[39;49mkwargs)\n\u001b[0;32m    289\u001b[0m                 \u001b[39mfor\u001b[39;49;00m func, args, kwargs \u001b[39min\u001b[39;49;00m \u001b[39mself\u001b[39;49m\u001b[39m.\u001b[39;49mitems]\n",
      "File \u001b[1;32mc:\\Users\\Micha\\AppData\\Local\\Programs\\Python\\Python311\\Lib\\site-packages\\joblib\\parallel.py:288\u001b[0m, in \u001b[0;36m<listcomp>\u001b[1;34m(.0)\u001b[0m\n\u001b[0;32m    284\u001b[0m \u001b[39mdef\u001b[39;00m \u001b[39m__call__\u001b[39m(\u001b[39mself\u001b[39m):\n\u001b[0;32m    285\u001b[0m     \u001b[39m# Set the default nested backend to self._backend but do not set the\u001b[39;00m\n\u001b[0;32m    286\u001b[0m     \u001b[39m# change the default number of processes to -1\u001b[39;00m\n\u001b[0;32m    287\u001b[0m     \u001b[39mwith\u001b[39;00m parallel_backend(\u001b[39mself\u001b[39m\u001b[39m.\u001b[39m_backend, n_jobs\u001b[39m=\u001b[39m\u001b[39mself\u001b[39m\u001b[39m.\u001b[39m_n_jobs):\n\u001b[1;32m--> 288\u001b[0m         \u001b[39mreturn\u001b[39;00m [func(\u001b[39m*\u001b[39;49margs, \u001b[39m*\u001b[39;49m\u001b[39m*\u001b[39;49mkwargs)\n\u001b[0;32m    289\u001b[0m                 \u001b[39mfor\u001b[39;00m func, args, kwargs \u001b[39min\u001b[39;00m \u001b[39mself\u001b[39m\u001b[39m.\u001b[39mitems]\n",
      "File \u001b[1;32mc:\\Users\\Micha\\AppData\\Local\\Programs\\Python\\Python311\\Lib\\site-packages\\sklearn\\utils\\parallel.py:123\u001b[0m, in \u001b[0;36m_FuncWrapper.__call__\u001b[1;34m(self, *args, **kwargs)\u001b[0m\n\u001b[0;32m    121\u001b[0m     config \u001b[39m=\u001b[39m {}\n\u001b[0;32m    122\u001b[0m \u001b[39mwith\u001b[39;00m config_context(\u001b[39m*\u001b[39m\u001b[39m*\u001b[39mconfig):\n\u001b[1;32m--> 123\u001b[0m     \u001b[39mreturn\u001b[39;00m \u001b[39mself\u001b[39;49m\u001b[39m.\u001b[39;49mfunction(\u001b[39m*\u001b[39;49margs, \u001b[39m*\u001b[39;49m\u001b[39m*\u001b[39;49mkwargs)\n",
      "File \u001b[1;32mc:\\Users\\Micha\\AppData\\Local\\Programs\\Python\\Python311\\Lib\\site-packages\\sklearn\\neighbors\\_base.py:685\u001b[0m, in \u001b[0;36m_tree_query_parallel_helper\u001b[1;34m(tree, *args, **kwargs)\u001b[0m\n\u001b[0;32m    679\u001b[0m \u001b[39mdef\u001b[39;00m \u001b[39m_tree_query_parallel_helper\u001b[39m(tree, \u001b[39m*\u001b[39margs, \u001b[39m*\u001b[39m\u001b[39m*\u001b[39mkwargs):\n\u001b[0;32m    680\u001b[0m     \u001b[39m\"\"\"Helper for the Parallel calls in KNeighborsMixin.kneighbors.\u001b[39;00m\n\u001b[0;32m    681\u001b[0m \n\u001b[0;32m    682\u001b[0m \u001b[39m    The Cython method tree.query is not directly picklable by cloudpickle\u001b[39;00m\n\u001b[0;32m    683\u001b[0m \u001b[39m    under PyPy.\u001b[39;00m\n\u001b[0;32m    684\u001b[0m \u001b[39m    \"\"\"\u001b[39;00m\n\u001b[1;32m--> 685\u001b[0m     \u001b[39mreturn\u001b[39;00m tree\u001b[39m.\u001b[39;49mquery(\u001b[39m*\u001b[39;49margs, \u001b[39m*\u001b[39;49m\u001b[39m*\u001b[39;49mkwargs)\n",
      "\u001b[1;31mKeyboardInterrupt\u001b[0m: "
     ]
    }
   ],
   "source": [
    "scores = dict()\n",
    "\n",
    "for name in datasets.keys():\n",
    "    scores[name] = []\n",
    "\n",
    "for k in range(30, 500) :\n",
    "    for name, data in tqdm(datasets.items()):\n",
    "        LOF = LocalOutlierFactor(n_neighbors = k, contamination=sum(y_train)/len(y_train))\n",
    "        y_pred = LOF.fit_predict(data)\n",
    "        y_pred = list(map(lambda x: {-1:1, 1:0}[x], y_pred))\n",
    "        scores[name].append(score(y_pred, y_test))\n",
    "\n",
    "\n",
    "    clear_output(True)\n",
    "    plt.figure(figsize = (10, 10))\n",
    "    for name, score_list in scores.items():\n",
    "        sns.lineplot([k['recall'] for k in score_list])\n",
    "    sns.lineplot([.81495 for _ in range(30, k+1)], label = 'paper')\n",
    "    plt.show()"
   ]
  }
 ],
 "metadata": {
  "kernelspec": {
   "display_name": "fraud",
   "language": "python",
   "name": "python3"
  },
  "language_info": {
   "codemirror_mode": {
    "name": "ipython",
    "version": 3
   },
   "file_extension": ".py",
   "mimetype": "text/x-python",
   "name": "python",
   "nbconvert_exporter": "python",
   "pygments_lexer": "ipython3",
   "version": "3.11.1"
  }
 },
 "nbformat": 4,
 "nbformat_minor": 2
}
