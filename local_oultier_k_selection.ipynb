{
 "cells": [
  {
   "cell_type": "code",
   "execution_count": 1,
   "metadata": {},
   "outputs": [],
   "source": [
    "import numpy as np\n",
    "import pandas as pd\n",
    "import seaborn as sns\n",
    "\n",
    "\n",
    "from sklearn.neighbors import LocalOutlierFactor\n",
    "from sklearn.metrics import f1_score, accuracy_score, matthews_corrcoef, precision_score, roc_auc_score, recall_score, average_precision_score\n",
    "from tqdm import tqdm\n",
    "from matplotlib import pyplot as plt"
   ]
  },
  {
   "cell_type": "code",
   "execution_count": 2,
   "metadata": {},
   "outputs": [],
   "source": [
    "y_train = pd.read_csv('../fraud_detection/active_datasets/y_train.csv', header=None).to_numpy().ravel()\n",
    "y_test = pd.read_csv('../fraud_detection/active_datasets/y_test.csv', header=None).to_numpy().ravel()"
   ]
  },
  {
   "cell_type": "code",
   "execution_count": 3,
   "metadata": {},
   "outputs": [],
   "source": [
    "X_train = pd.read_csv('../fraud_detection/active_datasets/fff_train.csv', header=None).to_numpy()\n",
    "X_test = pd.read_csv('../fraud_detection/active_datasets/fff_test.csv', header=None).to_numpy()"
   ]
  },
  {
   "cell_type": "code",
   "execution_count": 4,
   "metadata": {},
   "outputs": [
    {
     "data": {
      "text/plain": [
       "(1750, 148661, 0.011771749147389026)"
      ]
     },
     "execution_count": 4,
     "metadata": {},
     "output_type": "execute_result"
    }
   ],
   "source": [
    "sum(y_test), len(y_test), sum(y_test)/len(y_test)"
   ]
  },
  {
   "cell_type": "code",
   "execution_count": 5,
   "metadata": {},
   "outputs": [],
   "source": [
    "train_fraud_rate = sum(y_train)/len(y_train)"
   ]
  },
  {
   "cell_type": "code",
   "execution_count": 6,
   "metadata": {},
   "outputs": [
    {
     "name": "stdout",
     "output_type": "stream",
     "text": [
      "273.0\n"
     ]
    }
   ],
   "source": [
    "batch_size = 20/train_fraud_rate\n",
    "batch_num = len(X_train)//batch_size + 1\n",
    "print(batch_num)"
   ]
  },
  {
   "cell_type": "code",
   "execution_count": 7,
   "metadata": {},
   "outputs": [
    {
     "data": {
      "text/plain": [
       "19.963369963369964"
      ]
     },
     "execution_count": 7,
     "metadata": {},
     "output_type": "execute_result"
    }
   ],
   "source": [
    "X_training_batches = np.array_split(X_train, batch_num)\n",
    "y_training_batches = np.array_split(y_train, batch_num)\n",
    "np.mean([y.sum() for y in y_training_batches])"
   ]
  },
  {
   "cell_type": "code",
   "execution_count": 8,
   "metadata": {},
   "outputs": [
    {
     "name": "stderr",
     "output_type": "stream",
     "text": [
      "273it [00:20, 13.14it/s]\n"
     ]
    }
   ],
   "source": [
    "ensemble = list()\n",
    "\n",
    "for i, X in tqdm(enumerate(X_training_batches)):\n",
    "    y = y_training_batches[i]\n",
    "    LOF = LocalOutlierFactor(n_neighbors=20, novelty=True, contamination=sum(y_train)/len(y_train))\n",
    "    LOF.fit(X)\n",
    "    ensemble.append(LOF)\n"
   ]
  },
  {
   "cell_type": "code",
   "execution_count": 9,
   "metadata": {},
   "outputs": [
    {
     "data": {
      "text/plain": [
       "19.23076923076923"
      ]
     },
     "execution_count": 9,
     "metadata": {},
     "output_type": "execute_result"
    }
   ],
   "source": [
    "batch_num = len(X_test)//batch_size + 1\n",
    "\n",
    "X_testing_batches = np.array_split(X_test, batch_num)\n",
    "y_testing_batches = np.array_split(y_test, batch_num)\n",
    "np.mean([y.sum() for y in y_testing_batches])"
   ]
  },
  {
   "cell_type": "code",
   "execution_count": 10,
   "metadata": {},
   "outputs": [
    {
     "name": "stderr",
     "output_type": "stream",
     "text": [
      " 68%|██████▊   | 62/91 [23:40<38:15, 79.14s/it]   "
     ]
    }
   ],
   "source": [
    "preds = list()\n",
    "\n",
    "for X in tqdm(X_testing_batches):\n",
    "    ensemble_preds = [lof.predict(X) for lof in ensemble]\n",
    "    ensemble_preds = np.array(ensemble_preds)\n",
    "    batch_predictions = ensemble_preds.mean(axis=0) < 0\n",
    "    preds.extend(batch_predictions)\n",
    "\n",
    "preds"
   ]
  },
  {
   "cell_type": "code",
   "execution_count": null,
   "metadata": {},
   "outputs": [
    {
     "data": {
      "text/plain": [
       "{'accuracy': 0.9774991423439907,\n",
       " 'precision': 0.028942705256940343,\n",
       " 'recall': 0.028,\n",
       " 'f1': 0.028463549230322394,\n",
       " 'MCC': 0.017086866769703047,\n",
       " 'ROC-AUC': 0.508404775680514,\n",
       " 'AUPR': 0.012252535918456462}"
      ]
     },
     "execution_count": 16,
     "metadata": {},
     "output_type": "execute_result"
    }
   ],
   "source": [
    "scores = {}\n",
    "evaluation_funcs = {'accuracy':accuracy_score, 'precision':precision_score, 'recall':recall_score, 'f1':f1_score, 'MCC':matthews_corrcoef}\n",
    "for name, score in evaluation_funcs.items():\n",
    "        scores[name] = score(y_pred = preds, y_true = y_test)\n",
    "scores['ROC-AUC'] = roc_auc_score(y_score = preds, y_true = y_test)\n",
    "scores['AUPR'] = average_precision_score(y_score = preds, y_true = y_test)\n",
    "scores"
   ]
  },
  {
   "cell_type": "code",
   "execution_count": null,
   "metadata": {},
   "outputs": [
    {
     "data": {
      "text/plain": [
       "1693"
      ]
     },
     "execution_count": 15,
     "metadata": {},
     "output_type": "execute_result"
    }
   ],
   "source": [
    "sum(preds)"
   ]
  },
  {
   "cell_type": "code",
   "execution_count": null,
   "metadata": {},
   "outputs": [],
   "source": []
  }
 ],
 "metadata": {
  "kernelspec": {
   "display_name": "fraud",
   "language": "python",
   "name": "python3"
  },
  "language_info": {
   "codemirror_mode": {
    "name": "ipython",
    "version": 3
   },
   "file_extension": ".py",
   "mimetype": "text/x-python",
   "name": "python",
   "nbconvert_exporter": "python",
   "pygments_lexer": "ipython3",
   "version": "3.11.1"
  }
 },
 "nbformat": 4,
 "nbformat_minor": 2
}
