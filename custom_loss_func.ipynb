{
 "cells": [
  {
   "cell_type": "code",
   "execution_count": 3,
   "metadata": {},
   "outputs": [],
   "source": [
    "import numpy as np\n",
    "import pandas as pd\n",
    "\n",
    "from sklearn.metrics import make_scorer\n",
    "\n",
    "CONSTANT_ADMIN_COST = 10"
   ]
  },
  {
   "cell_type": "code",
   "execution_count": 7,
   "metadata": {},
   "outputs": [],
   "source": [
    "CONSTANT_ADMIN_COST = 10\n",
    "\n",
    "def cost_sensitive_loss(y_true, y_pred, amounts):\n",
    "    return np.sum(y_true * (y_pred * CONSTANT_ADMIN_COST + (1 - y_pred) * amounts) + (1 - y_true) * (y_pred) * CONSTANT_ADMIN_COST)"
   ]
  },
  {
   "cell_type": "code",
   "execution_count": 9,
   "metadata": {},
   "outputs": [
    {
     "data": {
      "text/plain": [
       "40"
      ]
     },
     "execution_count": 9,
     "metadata": {},
     "output_type": "execute_result"
    }
   ],
   "source": [
    "X = pd.DataFrame([1, 10, 100, 1000, 10000], columns=['amount'])\n",
    "y_pred = np.array([1, 0, 1, 0, 1])\n",
    "y_true = np.array([1, 1, 1, 0, 0])\n",
    "\n",
    "cost_sensitive_loss(y_pred=y_pred, y_true=y_true, amounts=np.array(X['amount']))"
   ]
  },
  {
   "cell_type": "code",
   "execution_count": 6,
   "metadata": {},
   "outputs": [],
   "source": [
    "cost_sensitive_scorer = make_scorer(cost_sensitive_loss, greater_is_better=False)\n",
    "cost_sensitive_scorer"
   ]
  }
 ],
 "metadata": {
  "kernelspec": {
   "display_name": "Python 3",
   "language": "python",
   "name": "python3"
  },
  "language_info": {
   "codemirror_mode": {
    "name": "ipython",
    "version": 3
   },
   "file_extension": ".py",
   "mimetype": "text/x-python",
   "name": "python",
   "nbconvert_exporter": "python",
   "pygments_lexer": "ipython3",
   "version": "3.11.1"
  }
 },
 "nbformat": 4,
 "nbformat_minor": 2
}
