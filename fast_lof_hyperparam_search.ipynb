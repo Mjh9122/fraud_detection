{
 "cells": [
  {
   "cell_type": "code",
   "execution_count": 76,
   "metadata": {},
   "outputs": [],
   "source": [
    "import pandas as pd\n",
    "import numpy as np\n",
    "from matplotlib import pyplot as plt\n",
    "\n",
    "from sklearn.neighbors import LocalOutlierFactor\n",
    "from sklearn.metrics import f1_score, accuracy_score, matthews_corrcoef, precision_score, roc_auc_score, recall_score, average_precision_score\n",
    "\n",
    "from tqdm import tqdm"
   ]
  },
  {
   "cell_type": "code",
   "execution_count": 77,
   "metadata": {},
   "outputs": [],
   "source": [
    "y_train = pd.read_csv('../fraud_detection/active_datasets/y_train.csv', header=None).to_numpy().ravel()\n",
    "y_test = pd.read_csv('../fraud_detection/active_datasets/y_test.csv', header=None).to_numpy().ravel()"
   ]
  },
  {
   "cell_type": "code",
   "execution_count": 78,
   "metadata": {},
   "outputs": [],
   "source": [
    "X_train = pd.read_csv('../fraud_detection/active_datasets/original_paper_features_train.csv').to_numpy()\n",
    "X_test = pd.read_csv('../fraud_detection/active_datasets/original_paper_features_test.csv').to_numpy()"
   ]
  },
  {
   "cell_type": "code",
   "execution_count": 79,
   "metadata": {},
   "outputs": [],
   "source": [
    "def score(y_pred, y_true):\n",
    "        scores = {}\n",
    "        evaluation_funcs = {'accuracy':accuracy_score, 'precision':precision_score, 'recall':recall_score, 'f1':f1_score, 'MCC':matthews_corrcoef}\n",
    "        for name, score in evaluation_funcs.items():\n",
    "                scores[name] = score(y_pred = y_pred, y_true = y_true)\n",
    "        scores['ROC-AUC'] = roc_auc_score(y_score = y_pred, y_true = y_true)\n",
    "        scores['AUPR'] = average_precision_score(y_score = y_pred, y_true = y_true)\n",
    "\n",
    "        return np.array(list(scores.values()))"
   ]
  },
  {
   "cell_type": "code",
   "execution_count": 80,
   "metadata": {},
   "outputs": [],
   "source": [
    "def build_lof(X, y, k):\n",
    "    LOF = LocalOutlierFactor(n_neighbors = k, contamination=sum(y_train)/len(y_train))\n",
    "    y_pred = LOF.fit_predict(X)\n",
    "    y_pred = list(map(lambda x: {-1:1, 1:0}[x], y_pred))\n",
    "    return score(y_pred=y_pred, y_true=y)"
   ]
  },
  {
   "cell_type": "code",
   "execution_count": 81,
   "metadata": {},
   "outputs": [],
   "source": [
    "def find_best_nneighbors(X, y, k_max):\n",
    "    start, stop, step = 1, k_max + 1, k_max//10\n",
    "    scores = {}\n",
    "    while True:\n",
    "        max_scores, max_k = 0, 0\n",
    "        for i in (pbar := tqdm(range(start, stop, step))):\n",
    "            pbar.set_description(f'k = {i}, step = {step}')\n",
    "            scores[i] = build_lof(X, y, i)\n",
    "            if (new_avg := np.mean(scores[i])) > max_scores:\n",
    "                max_scores = new_avg\n",
    "                max_k = i \n",
    "        start = max_k - 2 * step\n",
    "        stop = max_k + 2 * step\n",
    "        if step == 1:\n",
    "            break\n",
    "        step = (stop - start) // 10\n",
    "    return scores"
   ]
  },
  {
   "cell_type": "code",
   "execution_count": 82,
   "metadata": {},
   "outputs": [
    {
     "name": "stderr",
     "output_type": "stream",
     "text": [
      "k = 3601, step = 400: 100%|██████████| 10/10 [19:48<00:00, 118.87s/it]\n",
      "k = 3041, step = 160: 100%|██████████| 10/10 [23:58<00:00, 143.83s/it]\n",
      "k = 2817, step = 64: 100%|██████████| 10/10 [26:01<00:00, 156.19s/it]\n",
      "k = 2683, step = 25: 100%|██████████| 11/11 [28:31<00:00, 155.63s/it]\n",
      "k = 2598, step = 10: 100%|██████████| 10/10 [28:15<00:00, 169.54s/it]\n",
      "k = 2564, step = 4: 100%|██████████| 10/10 [31:22<00:00, 188.22s/it]\n",
      "k = 2559, step = 1: 100%|██████████| 16/16 [43:48<00:00, 164.27s/it]\n"
     ]
    }
   ],
   "source": [
    "scores = find_best_nneighbors(X_test, y_test, 4000)"
   ]
  },
  {
   "cell_type": "code",
   "execution_count": 83,
   "metadata": {},
   "outputs": [
    {
     "data": {
      "image/png": "[encoded data removed]",
      "text/plain": [
       "<Figure size 640x480 with 1 Axes>"
      ]
     },
     "metadata": {},
     "output_type": "display_data"
    }
   ],
   "source": [
    "xs = list(scores.keys())\n",
    "ys = list(scores.values())\n",
    "for i in range(len(ys[0])):\n",
    "    plt.scatter(xs, [y[i] for y in ys])"
   ]
  },
  {
   "cell_type": "code",
   "execution_count": null,
   "metadata": {},
   "outputs": [],
   "source": []
  }
 ],
 "metadata": {
  "kernelspec": {
   "display_name": "Python 3",
   "language": "python",
   "name": "python3"
  },
  "language_info": {
   "codemirror_mode": {
    "name": "ipython",
    "version": 3
   },
   "file_extension": ".py",
   "mimetype": "text/x-python",
   "name": "python",
   "nbconvert_exporter": "python",
   "pygments_lexer": "ipython3",
   "version": "3.11.1"
  }
 },
 "nbformat": 4,
 "nbformat_minor": 2
}
