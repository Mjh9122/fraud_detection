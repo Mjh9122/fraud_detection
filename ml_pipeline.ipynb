{
 "cells": [
  {
   "cell_type": "code",
   "execution_count": 2,
   "metadata": {},
   "outputs": [],
   "source": [
    "import numpy as np\n",
    "import pandas as pd\n",
    "\n",
    "from sklearn import preprocessing\n",
    "from sklearn import tree\n",
    "from sklearn.model_selection import train_test_split\n",
    "from sklearn.metrics import f1_score, accuracy_score, matthews_corrcoef, precision_score, roc_auc_score, recall_score\n",
    "from sklearn.ensemble import RandomForestClassifier, IsolationForest\n",
    "from sklearn.neighbors import KNeighborsClassifier, LocalOutlierFactor\n",
    "from sklearn.neural_network import MLPClassifier\n",
    "from sklearn import svm"
   ]
  },
  {
   "cell_type": "code",
   "execution_count": 3,
   "metadata": {},
   "outputs": [
    {
     "data": {
      "text/html": [
       "<div>\n",
       "<style scoped>\n",
       "    .dataframe tbody tr th:only-of-type {\n",
       "        vertical-align: middle;\n",
       "    }\n",
       "\n",
       "    .dataframe tbody tr th {\n",
       "        vertical-align: top;\n",
       "    }\n",
       "\n",
       "    .dataframe thead th {\n",
       "        text-align: right;\n",
       "    }\n",
       "</style>\n",
       "<table border=\"1\" class=\"dataframe\">\n",
       "  <thead>\n",
       "    <tr style=\"text-align: right;\">\n",
       "      <th></th>\n",
       "      <th>step</th>\n",
       "      <th>customer</th>\n",
       "      <th>age</th>\n",
       "      <th>gender</th>\n",
       "      <th>zipcodeOri</th>\n",
       "      <th>merchant</th>\n",
       "      <th>zipMerchant</th>\n",
       "      <th>category</th>\n",
       "      <th>amount</th>\n",
       "      <th>fraud</th>\n",
       "    </tr>\n",
       "  </thead>\n",
       "  <tbody>\n",
       "    <tr>\n",
       "      <th>0</th>\n",
       "      <td>0</td>\n",
       "      <td>'C1093826151'</td>\n",
       "      <td>'4'</td>\n",
       "      <td>'M'</td>\n",
       "      <td>'28007'</td>\n",
       "      <td>'M348934600'</td>\n",
       "      <td>'28007'</td>\n",
       "      <td>'es_transportation'</td>\n",
       "      <td>4.55</td>\n",
       "      <td>0</td>\n",
       "    </tr>\n",
       "    <tr>\n",
       "      <th>1</th>\n",
       "      <td>0</td>\n",
       "      <td>'C352968107'</td>\n",
       "      <td>'2'</td>\n",
       "      <td>'M'</td>\n",
       "      <td>'28007'</td>\n",
       "      <td>'M348934600'</td>\n",
       "      <td>'28007'</td>\n",
       "      <td>'es_transportation'</td>\n",
       "      <td>39.68</td>\n",
       "      <td>0</td>\n",
       "    </tr>\n",
       "    <tr>\n",
       "      <th>2</th>\n",
       "      <td>0</td>\n",
       "      <td>'C2054744914'</td>\n",
       "      <td>'4'</td>\n",
       "      <td>'F'</td>\n",
       "      <td>'28007'</td>\n",
       "      <td>'M1823072687'</td>\n",
       "      <td>'28007'</td>\n",
       "      <td>'es_transportation'</td>\n",
       "      <td>26.89</td>\n",
       "      <td>0</td>\n",
       "    </tr>\n",
       "    <tr>\n",
       "      <th>3</th>\n",
       "      <td>0</td>\n",
       "      <td>'C1760612790'</td>\n",
       "      <td>'3'</td>\n",
       "      <td>'M'</td>\n",
       "      <td>'28007'</td>\n",
       "      <td>'M348934600'</td>\n",
       "      <td>'28007'</td>\n",
       "      <td>'es_transportation'</td>\n",
       "      <td>17.25</td>\n",
       "      <td>0</td>\n",
       "    </tr>\n",
       "    <tr>\n",
       "      <th>4</th>\n",
       "      <td>0</td>\n",
       "      <td>'C757503768'</td>\n",
       "      <td>'5'</td>\n",
       "      <td>'M'</td>\n",
       "      <td>'28007'</td>\n",
       "      <td>'M348934600'</td>\n",
       "      <td>'28007'</td>\n",
       "      <td>'es_transportation'</td>\n",
       "      <td>35.72</td>\n",
       "      <td>0</td>\n",
       "    </tr>\n",
       "  </tbody>\n",
       "</table>\n",
       "</div>"
      ],
      "text/plain": [
       "   step       customer  age gender zipcodeOri       merchant zipMerchant  \\\n",
       "0     0  'C1093826151'  '4'    'M'    '28007'   'M348934600'     '28007'   \n",
       "1     0   'C352968107'  '2'    'M'    '28007'   'M348934600'     '28007'   \n",
       "2     0  'C2054744914'  '4'    'F'    '28007'  'M1823072687'     '28007'   \n",
       "3     0  'C1760612790'  '3'    'M'    '28007'   'M348934600'     '28007'   \n",
       "4     0   'C757503768'  '5'    'M'    '28007'   'M348934600'     '28007'   \n",
       "\n",
       "              category  amount  fraud  \n",
       "0  'es_transportation'    4.55      0  \n",
       "1  'es_transportation'   39.68      0  \n",
       "2  'es_transportation'   26.89      0  \n",
       "3  'es_transportation'   17.25      0  \n",
       "4  'es_transportation'   35.72      0  "
      ]
     },
     "execution_count": 3,
     "metadata": {},
     "output_type": "execute_result"
    }
   ],
   "source": [
    "fraud_df = pd.read_csv('banksim_dataset/bs140513_032310.csv')\n",
    "fraud_df.head()"
   ]
  },
  {
   "cell_type": "code",
   "execution_count": 4,
   "metadata": {},
   "outputs": [
    {
     "data": {
      "text/html": [
       "<div>\n",
       "<style scoped>\n",
       "    .dataframe tbody tr th:only-of-type {\n",
       "        vertical-align: middle;\n",
       "    }\n",
       "\n",
       "    .dataframe tbody tr th {\n",
       "        vertical-align: top;\n",
       "    }\n",
       "\n",
       "    .dataframe thead th {\n",
       "        text-align: right;\n",
       "    }\n",
       "</style>\n",
       "<table border=\"1\" class=\"dataframe\">\n",
       "  <thead>\n",
       "    <tr style=\"text-align: right;\">\n",
       "      <th></th>\n",
       "      <th>step</th>\n",
       "      <th>customer</th>\n",
       "      <th>age</th>\n",
       "      <th>gender</th>\n",
       "      <th>merchant</th>\n",
       "      <th>category</th>\n",
       "      <th>amount</th>\n",
       "      <th>fraud</th>\n",
       "    </tr>\n",
       "  </thead>\n",
       "  <tbody>\n",
       "    <tr>\n",
       "      <th>0</th>\n",
       "      <td>0</td>\n",
       "      <td>C1093826151</td>\n",
       "      <td>4.0</td>\n",
       "      <td>0</td>\n",
       "      <td>M348934600</td>\n",
       "      <td>es_transportation</td>\n",
       "      <td>4.55</td>\n",
       "      <td>0</td>\n",
       "    </tr>\n",
       "    <tr>\n",
       "      <th>1</th>\n",
       "      <td>0</td>\n",
       "      <td>C352968107</td>\n",
       "      <td>2.0</td>\n",
       "      <td>0</td>\n",
       "      <td>M348934600</td>\n",
       "      <td>es_transportation</td>\n",
       "      <td>39.68</td>\n",
       "      <td>0</td>\n",
       "    </tr>\n",
       "    <tr>\n",
       "      <th>2</th>\n",
       "      <td>0</td>\n",
       "      <td>C2054744914</td>\n",
       "      <td>4.0</td>\n",
       "      <td>1</td>\n",
       "      <td>M1823072687</td>\n",
       "      <td>es_transportation</td>\n",
       "      <td>26.89</td>\n",
       "      <td>0</td>\n",
       "    </tr>\n",
       "    <tr>\n",
       "      <th>3</th>\n",
       "      <td>0</td>\n",
       "      <td>C1760612790</td>\n",
       "      <td>3.0</td>\n",
       "      <td>0</td>\n",
       "      <td>M348934600</td>\n",
       "      <td>es_transportation</td>\n",
       "      <td>17.25</td>\n",
       "      <td>0</td>\n",
       "    </tr>\n",
       "    <tr>\n",
       "      <th>4</th>\n",
       "      <td>0</td>\n",
       "      <td>C757503768</td>\n",
       "      <td>5.0</td>\n",
       "      <td>0</td>\n",
       "      <td>M348934600</td>\n",
       "      <td>es_transportation</td>\n",
       "      <td>35.72</td>\n",
       "      <td>0</td>\n",
       "    </tr>\n",
       "  </tbody>\n",
       "</table>\n",
       "</div>"
      ],
      "text/plain": [
       "   step     customer  age  gender     merchant           category  amount  \\\n",
       "0     0  C1093826151  4.0       0   M348934600  es_transportation    4.55   \n",
       "1     0   C352968107  2.0       0   M348934600  es_transportation   39.68   \n",
       "2     0  C2054744914  4.0       1  M1823072687  es_transportation   26.89   \n",
       "3     0  C1760612790  3.0       0   M348934600  es_transportation   17.25   \n",
       "4     0   C757503768  5.0       0   M348934600  es_transportation   35.72   \n",
       "\n",
       "   fraud  \n",
       "0      0  \n",
       "1      0  \n",
       "2      0  \n",
       "3      0  \n",
       "4      0  "
      ]
     },
     "execution_count": 4,
     "metadata": {},
     "output_type": "execute_result"
    }
   ],
   "source": [
    "fraud_df['age'].replace({\"'0'\":0, \"'1'\":1, \"'2'\":2,\"'3'\":3, \"'4'\":4,\"'5'\":5,\"'6'\":6,\"'U'\":np.nan}, inplace=True)\n",
    "fraud_df['age'].fillna(fraud_df['age'].mean(), inplace=True)\n",
    "\n",
    "fraud_df['gender'].replace({\"'M'\":0,\"'F'\":1, \"'E'\":2, \"'U'\":2}, inplace=True)\n",
    "\n",
    "\n",
    "fraud_df.drop(columns = ['zipcodeOri', 'zipMerchant'], inplace=True)\n",
    "\n",
    "fraud_df['customer'] = fraud_df['customer'].str[1:-1]\n",
    "fraud_df['merchant'] = fraud_df['merchant'].str[1:-1]\n",
    "fraud_df['category'] = fraud_df['category'].str[1:-1]\n",
    "\n",
    "fraud_np = fraud_df.to_numpy()\n",
    "fraud_df.head()"
   ]
  },
  {
   "cell_type": "code",
   "execution_count": 5,
   "metadata": {},
   "outputs": [],
   "source": [
    "ordinal_enc = preprocessing.OrdinalEncoder()\n",
    "fraud_np[:, 1] = ordinal_enc.fit_transform(fraud_np[:, 1].reshape(-1, 1)).reshape(-1)\n",
    "fraud_np[:, 4] = ordinal_enc.fit_transform(fraud_np[:, 4].reshape(-1, 1)).reshape(-1)\n",
    "fraud_np[:, 5] = ordinal_enc.fit_transform(fraud_np[:, 5].reshape(-1, 1)).reshape(-1)"
   ]
  },
  {
   "cell_type": "code",
   "execution_count": 6,
   "metadata": {},
   "outputs": [],
   "source": [
    "X = fraud_np[:, :-1]\n",
    "y = fraud_np[:, -1].astype(int)\n",
    "X_train, X_test, y_train, y_test = train_test_split(X, y, test_size=.20, random_state=1)"
   ]
  },
  {
   "cell_type": "code",
   "execution_count": 7,
   "metadata": {},
   "outputs": [],
   "source": [
    "evaluation_funcs = [accuracy_score, precision_score, recall_score, f1_score, matthews_corrcoef, roc_auc_score]"
   ]
  },
  {
   "cell_type": "code",
   "execution_count": 8,
   "metadata": {},
   "outputs": [],
   "source": [
    "# desc_tree = tree.DecisionTreeClassifier()\n",
    "# desc_tree = desc_tree.fit(X_train, y_train)\n",
    "# desc_tree_preds = desc_tree.predict(X_test)\n",
    "# print(f\"descision tree scores: {[x(desc_tree_preds, y_test) for x in evaluation_funcs]}\")"
   ]
  },
  {
   "cell_type": "code",
   "execution_count": 9,
   "metadata": {},
   "outputs": [],
   "source": [
    "# random_forest = RandomForestClassifier()\n",
    "# random_forest = random_forest.fit(X_train, y_train)\n",
    "# random_forest_preds = random_forest.predict(X_test)\n",
    "# print(f\"random forest scores: {[x(random_forest_preds, y_test) for x in evaluation_funcs]}\")"
   ]
  },
  {
   "cell_type": "code",
   "execution_count": 10,
   "metadata": {},
   "outputs": [],
   "source": [
    "# KNN = KNeighborsClassifier()\n",
    "# KNN = KNN.fit(X_train, y_train)\n",
    "# KNN_preds = KNN.predict(X_test)\n",
    "# print(f\"KNN scores: {[x(KNN_preds, y_test) for x in evaluation_funcs]}\")"
   ]
  },
  {
   "cell_type": "code",
   "execution_count": 11,
   "metadata": {},
   "outputs": [],
   "source": [
    "# MLP = MLPClassifier([4, 4, 4])\n",
    "# MLP = MLP.fit(X_train, y_train)\n",
    "# MLP_preds = MLP.predict(X_test)\n",
    "# print(f\"MLP scores: {[x(MLP_preds, y_test) for x in evaluation_funcs]}\")"
   ]
  },
  {
   "cell_type": "code",
   "execution_count": 12,
   "metadata": {},
   "outputs": [],
   "source": [
    "# SVM = svm.SVC()\n",
    "# SVM = SVM.fit(X_train, y_train)\n",
    "# SVM_preds = SVM.predict(X_test)\n",
    "# print(f\"SVM scores: {[x(SVM_preds, y_test) for x in evaluation_funcs]}\")"
   ]
  },
  {
   "cell_type": "code",
   "execution_count": 34,
   "metadata": {},
   "outputs": [
    {
     "name": "stdout",
     "output_type": "stream",
     "text": [
      "0.012257774832967007 0.012256508291017171\n",
      "LOF scores: [0.9759469126854263, 0.012916666666666667, 0.012758951845246261, 0.01283732486714059, 0.0006629333644480935, 0.5003294617914518]\n"
     ]
    }
   ],
   "source": [
    "all_data = fraud_np[:, :-1]\n",
    "all_labels = fraud_np[:, -1].astype(int)\n",
    "\n",
    "LOF = LocalOutlierFactor(n_neighbors=20, contamination=7200/587443)\n",
    "LOF_preds = LOF.fit_predict(all_data)\n",
    "LOF_map = {1:0, -1:1}\n",
    "LOF_preds = [LOF_map[i] for i in LOF_preds]\n",
    "print((np.count_nonzero(LOF_preds)/len(LOF_preds)), 7200/587443)\n",
    "print(f\"LOF scores: {[x(LOF_preds, all_labels) for x in evaluation_funcs]}\")"
   ]
  },
  {
   "cell_type": "code",
   "execution_count": null,
   "metadata": {},
   "outputs": [],
   "source": [
    "IF = IsolationForest()\n",
    "IF = IF.fit(X_train, y_train)\n",
    "IF_preds = IF.predict(X_test)\n",
    "print(f\"IF scores: {[x(IF_preds, y_test) for x in evaluation_funcs]}\")"
   ]
  }
 ],
 "metadata": {
  "kernelspec": {
   "display_name": "Python 3",
   "language": "python",
   "name": "python3"
  },
  "language_info": {
   "codemirror_mode": {
    "name": "ipython",
    "version": 3
   },
   "file_extension": ".py",
   "mimetype": "text/x-python",
   "name": "python",
   "nbconvert_exporter": "python",
   "pygments_lexer": "ipython3",
   "version": "3.11.4"
  },
  "orig_nbformat": 4
 },
 "nbformat": 4,
 "nbformat_minor": 2
}
