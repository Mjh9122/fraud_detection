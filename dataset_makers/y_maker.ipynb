{
 "cells": [
  {
   "cell_type": "code",
   "execution_count": 1,
   "metadata": {},
   "outputs": [],
   "source": [
    "import pandas as pd\n",
    "import numpy as np\n",
    "\n",
    "from sklearn.model_selection import train_test_split\n",
    "\n",
    "transaction_df = pd.read_csv('original_data.csv')\n",
    "train, test = train_test_split(transaction_df['fraud'], random_state=42)\n",
    "y_train_df = pd.DataFrame(train)\n",
    "y_train_df.to_csv('./datasets/y_train.csv', index = None, header=None)\n",
    "y_test_df = pd.DataFrame(test)\n",
    "y_test_df.to_csv('./datasets/y_test.csv', index = None, header=None)"
   ]
  }
 ],
 "metadata": {
  "kernelspec": {
   "display_name": "Python 3",
   "language": "python",
   "name": "python3"
  },
  "language_info": {
   "codemirror_mode": {
    "name": "ipython",
    "version": 3
   },
   "file_extension": ".py",
   "mimetype": "text/x-python",
   "name": "python",
   "nbconvert_exporter": "python",
   "pygments_lexer": "ipython3",
   "version": "3.11.1"
  },
  "orig_nbformat": 4
 },
 "nbformat": 4,
 "nbformat_minor": 2
}
