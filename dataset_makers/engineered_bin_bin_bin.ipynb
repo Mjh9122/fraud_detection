{
 "cells": [
  {
   "cell_type": "code",
   "execution_count": 1,
   "metadata": {},
   "outputs": [],
   "source": [
    "import pandas as pd\n",
    "import numpy as np\n",
    "\n",
    "from sklearn.model_selection import train_test_split\n",
    "\n",
    "from sklearn.preprocessing import  MinMaxScaler"
   ]
  },
  {
   "cell_type": "code",
   "execution_count": 2,
   "metadata": {},
   "outputs": [],
   "source": [
    "transaction_df = pd.read_csv('original_data.csv')\n",
    "transaction_df.replace(\"'\",'', regex=True, inplace=True) \n",
    "#Drop unused columns\n",
    "transaction_df.drop(columns = ['step', 'age', 'gender', 'zipcodeOri', 'zipMerchant'], inplace=True)\n",
    "#Split data to train, test\n",
    "train, test = train_test_split(transaction_df, random_state=42)"
   ]
  },
  {
   "cell_type": "code",
   "execution_count": 3,
   "metadata": {},
   "outputs": [],
   "source": [
    "# Create merchant fraud rate, 1 - 5 value of fraud rates in merchants in train set\n",
    "mechant_fraud_rate = pd.cut(train.groupby('merchant').mean('fraud')['fraud'], bins = 5, labels=range(5))\n",
    "train['merchant fraud rate'] = train['merchant'].apply(lambda x: mechant_fraud_rate.get(x))\n",
    "test['merchant fraud rate'] = test['merchant'].apply(lambda x: mechant_fraud_rate.get(x))"
   ]
  },
  {
   "cell_type": "code",
   "execution_count": 4,
   "metadata": {},
   "outputs": [],
   "source": [
    "# Create previous fraud per customer. 1 if there was fraud in the test set, 0 if not\n",
    "customer_previous_fraud = pd.cut(train.groupby('customer').mean('fraud')['fraud'], bins = 5, labels=range(5))\n",
    "train['previous fraud'] = train['customer'].apply(lambda x: customer_previous_fraud.get(x))\n",
    "test['previous fraud'] = test['customer'].apply(lambda x: customer_previous_fraud.get(x))"
   ]
  },
  {
   "cell_type": "code",
   "execution_count": 5,
   "metadata": {},
   "outputs": [],
   "source": [
    "# Create category fraud rate, 1 - 5 value of fraud rate in train set\n",
    "category_fraud_rate = pd.cut(train.groupby('category').mean('fraud')['fraud'], bins = 5, labels = range(5))\n",
    "train['category fraud rate'] = train['category'].apply(lambda x: category_fraud_rate.get(x))\n",
    "test['category fraud rate'] = test['category'].apply(lambda x: category_fraud_rate.get(x))"
   ]
  },
  {
   "cell_type": "code",
   "execution_count": 6,
   "metadata": {},
   "outputs": [
    {
     "data": {
      "text/html": [
       "<div>\n",
       "<style scoped>\n",
       "    .dataframe tbody tr th:only-of-type {\n",
       "        vertical-align: middle;\n",
       "    }\n",
       "\n",
       "    .dataframe tbody tr th {\n",
       "        vertical-align: top;\n",
       "    }\n",
       "\n",
       "    .dataframe thead th {\n",
       "        text-align: right;\n",
       "    }\n",
       "</style>\n",
       "<table border=\"1\" class=\"dataframe\">\n",
       "  <thead>\n",
       "    <tr style=\"text-align: right;\">\n",
       "      <th></th>\n",
       "      <th>amount</th>\n",
       "      <th>fraud</th>\n",
       "      <th>merchant fraud rate</th>\n",
       "      <th>previous fraud</th>\n",
       "      <th>category fraud rate</th>\n",
       "    </tr>\n",
       "  </thead>\n",
       "  <tbody>\n",
       "    <tr>\n",
       "      <th>458422</th>\n",
       "      <td>40.54</td>\n",
       "      <td>0</td>\n",
       "      <td>0</td>\n",
       "      <td>0</td>\n",
       "      <td>0</td>\n",
       "    </tr>\n",
       "    <tr>\n",
       "      <th>102312</th>\n",
       "      <td>38.63</td>\n",
       "      <td>0</td>\n",
       "      <td>0</td>\n",
       "      <td>0</td>\n",
       "      <td>0</td>\n",
       "    </tr>\n",
       "    <tr>\n",
       "      <th>253447</th>\n",
       "      <td>61.62</td>\n",
       "      <td>0</td>\n",
       "      <td>0</td>\n",
       "      <td>0</td>\n",
       "      <td>0</td>\n",
       "    </tr>\n",
       "    <tr>\n",
       "      <th>585032</th>\n",
       "      <td>41.24</td>\n",
       "      <td>0</td>\n",
       "      <td>0</td>\n",
       "      <td>0</td>\n",
       "      <td>0</td>\n",
       "    </tr>\n",
       "    <tr>\n",
       "      <th>136214</th>\n",
       "      <td>4.74</td>\n",
       "      <td>0</td>\n",
       "      <td>0</td>\n",
       "      <td>0</td>\n",
       "      <td>0</td>\n",
       "    </tr>\n",
       "  </tbody>\n",
       "</table>\n",
       "</div>"
      ],
      "text/plain": [
       "        amount  fraud  merchant fraud rate  previous fraud   \n",
       "458422   40.54      0                    0               0  \\\n",
       "102312   38.63      0                    0               0   \n",
       "253447   61.62      0                    0               0   \n",
       "585032   41.24      0                    0               0   \n",
       "136214    4.74      0                    0               0   \n",
       "\n",
       "        category fraud rate  \n",
       "458422                    0  \n",
       "102312                    0  \n",
       "253447                    0  \n",
       "585032                    0  \n",
       "136214                    0  "
      ]
     },
     "execution_count": 6,
     "metadata": {},
     "output_type": "execute_result"
    }
   ],
   "source": [
    "train.drop(columns=['customer', 'merchant', 'category'], inplace=True)\n",
    "test.drop(columns=['customer', 'merchant', 'category'], inplace=True)\n",
    "train.head()"
   ]
  },
  {
   "cell_type": "code",
   "execution_count": 7,
   "metadata": {},
   "outputs": [],
   "source": [
    "# Make feature and target vectors\n",
    "y_train = train['fraud']\n",
    "X_train = train.drop(columns = ['fraud'])\n",
    "y_test = test['fraud']\n",
    "X_test = test.drop(columns = ['fraud'])"
   ]
  },
  {
   "cell_type": "code",
   "execution_count": 8,
   "metadata": {},
   "outputs": [],
   "source": [
    "#Fit transformer to data\n",
    "MMscaler = MinMaxScaler()\n",
    "X_train_transformed = MMscaler.fit_transform(X_train)\n",
    "X_test_transformed = MMscaler.transform(X_test)"
   ]
  },
  {
   "cell_type": "code",
   "execution_count": 9,
   "metadata": {},
   "outputs": [],
   "source": [
    "X_train_df = pd.DataFrame(X_train_transformed)\n",
    "X_train_df.to_csv('../all_datasets/bbb_train.csv', index = None, header=None)\n",
    "X_test_df = pd.DataFrame(X_test_transformed)\n",
    "X_test_df.to_csv('../all_datasets/bbb_test.csv', index = None, header=None)"
   ]
  }
 ],
 "metadata": {
  "kernelspec": {
   "display_name": "fraud",
   "language": "python",
   "name": "python3"
  },
  "language_info": {
   "codemirror_mode": {
    "name": "ipython",
    "version": 3
   },
   "file_extension": ".py",
   "mimetype": "text/x-python",
   "name": "python",
   "nbconvert_exporter": "python",
   "pygments_lexer": "ipython3",
   "version": "3.11.1"
  },
  "orig_nbformat": 4
 },
 "nbformat": 4,
 "nbformat_minor": 2
}
