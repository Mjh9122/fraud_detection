{
 "cells": [
  {
   "cell_type": "code",
   "execution_count": 95,
   "metadata": {},
   "outputs": [],
   "source": [
    "import argparse\n",
    "import networkx as nx\n",
    "import numpy as np\n",
    "import pandas as pd\n",
    "\n",
    "from sklearn.model_selection import train_test_split\n",
    "from tqdm import tqdm"
   ]
  },
  {
   "cell_type": "code",
   "execution_count": 96,
   "metadata": {},
   "outputs": [],
   "source": [
    "def build_graph(csv):\n",
    "    \"\"\"Takes the original dataset and produces a graph with customers and merchants as nodes and transactions as edges.\n",
    "\n",
    "    Args:\n",
    "        data_set (Dataframe): The transaction data, columns are\n",
    "        [step,customer,age,gender,zipcodeOri,merchant,zipMerchant,category,amount,fraud]\n",
    "\n",
    "    Returns:\n",
    "        DiGraph: A directed graph with the above properties\n",
    "    \"\"\"\n",
    "    df = pd.read_csv(csv)\n",
    "    df.drop(columns=['step', 'age', 'gender', 'zipcodeOri', 'zipMerchant', 'category', 'fraud'], inplace=True)\n",
    "    df.replace(\"'\",'', regex=True, inplace=True) \n",
    "    train, test = train_test_split(df, random_state=42)\n",
    "    G = nx.MultiGraph()\n",
    "\n",
    "    for _, row in train.iterrows():\n",
    "        customer, merchant, amount = row\n",
    "        if customer not in G:\n",
    "            G.add_node(customer)\n",
    "        if merchant not in G:\n",
    "            G.add_node(merchant)\n",
    "        G.add_edge(customer, merchant, amount=amount)\n",
    "    return G"
   ]
  },
  {
   "cell_type": "code",
   "execution_count": 97,
   "metadata": {},
   "outputs": [],
   "source": [
    "def get_lpa_comunities_weighted(G, df, merchant = True, customer = True):\n",
    "    coms = nx.community.asyn_lpa_communities(G, weight='amount')\n",
    "    com_dic = {}\n",
    "    for i, com in enumerate(coms):\n",
    "        for label in list(com):\n",
    "            com_dic[label] = i\n",
    "\n",
    "    if merchant:\n",
    "        df['lpa_merchant'] = df['merchant'].apply(lambda x: com_dic.get(x))\n",
    "\n",
    "    if customer:\n",
    "        df['lpa_customer'] = df['customer'].apply(lambda x: com_dic.get(x))\n",
    "\n",
    "    return df"
   ]
  },
  {
   "cell_type": "code",
   "execution_count": 98,
   "metadata": {},
   "outputs": [],
   "source": [
    "def get_degree_centrality(G, df, merchant = True, customer = True):\n",
    "    degs = nx.degree_centrality(G)\n",
    "    \n",
    "    if merchant:\n",
    "        df['degree_centrality_merchant'] = df['merchant'].apply(lambda x: degs.get(x))\n",
    "\n",
    "    if customer:\n",
    "        df['degree_centrality_customer'] = df['customer'].apply(lambda x: degs.get(x))\n",
    "\n",
    "    return df"
   ]
  },
  {
   "cell_type": "code",
   "execution_count": 99,
   "metadata": {},
   "outputs": [],
   "source": [
    "def get_page_rank_unweighted(G, df, merchant = True, customer = True):\n",
    "    ranks = nx.pagerank(G)\n",
    "    \n",
    "    if merchant:\n",
    "        df['page_rank_merchant'] = df['merchant'].apply(lambda x: ranks.get(x))\n",
    "\n",
    "    if customer:\n",
    "        df['page_rank_customer'] = df['customer'].apply(lambda x: ranks.get(x))\n",
    "\n",
    "    return df"
   ]
  },
  {
   "cell_type": "code",
   "execution_count": 100,
   "metadata": {},
   "outputs": [],
   "source": [
    "G = build_graph('../dataset_makers/original_data.csv')\n",
    "df = pd.read_csv('../dataset_makers/original_data.csv')\n",
    "df.drop(columns=['step', 'age', 'gender', 'zipcodeOri', 'zipMerchant', 'category', 'fraud'], inplace=True)\n",
    "df.replace(\"'\",'', regex=True, inplace=True) "
   ]
  },
  {
   "cell_type": "code",
   "execution_count": 101,
   "metadata": {},
   "outputs": [
    {
     "data": {
      "text/plain": [
       "Index(['customer', 'merchant', 'amount', 'lpa_merchant', 'lpa_customer',\n",
       "       'degree_centrality_merchant', 'degree_centrality_customer',\n",
       "       'page_rank_merchant', 'page_rank_customer'],\n",
       "      dtype='object')"
      ]
     },
     "execution_count": 101,
     "metadata": {},
     "output_type": "execute_result"
    }
   ],
   "source": [
    "df = get_lpa_comunities_weighted(G, df)\n",
    "df = get_degree_centrality(G, df)\n",
    "df = get_page_rank_unweighted(G, df)\n",
    "df.columns"
   ]
  },
  {
   "cell_type": "code",
   "execution_count": null,
   "metadata": {},
   "outputs": [],
   "source": []
  }
 ],
 "metadata": {
  "kernelspec": {
   "display_name": "Python 3",
   "language": "python",
   "name": "python3"
  },
  "language_info": {
   "codemirror_mode": {
    "name": "ipython",
    "version": 3
   },
   "file_extension": ".py",
   "mimetype": "text/x-python",
   "name": "python",
   "nbconvert_exporter": "python",
   "pygments_lexer": "ipython3",
   "version": "3.11.1"
  }
 },
 "nbformat": 4,
 "nbformat_minor": 2
}
