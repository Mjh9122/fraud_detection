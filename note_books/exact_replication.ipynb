{
  "cells": [
    {
      "cell_type": "code",
      "execution_count": 1,
      "metadata": {
        "colab": {
          "base_uri": "https://localhost:8080/"
        },
        "id": "wdjbYDzNChZs",
        "outputId": "e05d1538-6bc6-4289-d5e9-0648aa302db7"
      },
      "outputs": [],
      "source": [
        "import pandas as pd\n",
        "import numpy as np\n",
        "\n",
        "from sklearn.compose import ColumnTransformer\n",
        "from sklearn.ensemble import RandomForestClassifier, IsolationForest\n",
        "from sklearn.metrics import f1_score, accuracy_score, matthews_corrcoef, precision_score, roc_auc_score, recall_score, average_precision_score\n",
        "from sklearn.model_selection import train_test_split\n",
        "from sklearn.neighbors import KNeighborsClassifier, LocalOutlierFactor\n",
        "from sklearn.neural_network import MLPClassifier\n",
        "from sklearn.pipeline import Pipeline\n",
        "from sklearn.preprocessing import OneHotEncoder, OrdinalEncoder, MinMaxScaler\n",
        "from sklearn.svm import SVC\n",
        "from sklearn.tree import DecisionTreeClassifier"
      ]
    },
    {
      "cell_type": "code",
      "execution_count": 2,
      "metadata": {
        "id": "qjjCbSb-CnmM"
      },
      "outputs": [],
      "source": [
        "transactions = pd.read_csv('banksim_dataset/bs140513_032310.csv')\n",
        "transactions.replace(\"'\",'', regex=True, inplace=True) "
      ]
    },
    {
      "cell_type": "code",
      "execution_count": 3,
      "metadata": {
        "colab": {
          "base_uri": "https://localhost:8080/",
          "height": 206
        },
        "id": "j-AT4V3zDAaS",
        "outputId": "e37f8cf4-bdc5-4249-c657-d1fa4d74f427"
      },
      "outputs": [
        {
          "data": {
            "text/html": [
              "<div>\n",
              "<style scoped>\n",
              "    .dataframe tbody tr th:only-of-type {\n",
              "        vertical-align: middle;\n",
              "    }\n",
              "\n",
              "    .dataframe tbody tr th {\n",
              "        vertical-align: top;\n",
              "    }\n",
              "\n",
              "    .dataframe thead th {\n",
              "        text-align: right;\n",
              "    }\n",
              "</style>\n",
              "<table border=\"1\" class=\"dataframe\">\n",
              "  <thead>\n",
              "    <tr style=\"text-align: right;\">\n",
              "      <th></th>\n",
              "      <th>step</th>\n",
              "      <th>customer</th>\n",
              "      <th>age</th>\n",
              "      <th>gender</th>\n",
              "      <th>zipcodeOri</th>\n",
              "      <th>merchant</th>\n",
              "      <th>zipMerchant</th>\n",
              "      <th>category</th>\n",
              "      <th>amount</th>\n",
              "    </tr>\n",
              "  </thead>\n",
              "  <tbody>\n",
              "    <tr>\n",
              "      <th>0</th>\n",
              "      <td>0</td>\n",
              "      <td>'C1093826151'</td>\n",
              "      <td>'4'</td>\n",
              "      <td>'M'</td>\n",
              "      <td>'28007'</td>\n",
              "      <td>'M348934600'</td>\n",
              "      <td>'28007'</td>\n",
              "      <td>'es_transportation'</td>\n",
              "      <td>4.55</td>\n",
              "    </tr>\n",
              "    <tr>\n",
              "      <th>1</th>\n",
              "      <td>0</td>\n",
              "      <td>'C352968107'</td>\n",
              "      <td>'2'</td>\n",
              "      <td>'M'</td>\n",
              "      <td>'28007'</td>\n",
              "      <td>'M348934600'</td>\n",
              "      <td>'28007'</td>\n",
              "      <td>'es_transportation'</td>\n",
              "      <td>39.68</td>\n",
              "    </tr>\n",
              "    <tr>\n",
              "      <th>2</th>\n",
              "      <td>0</td>\n",
              "      <td>'C2054744914'</td>\n",
              "      <td>'4'</td>\n",
              "      <td>'F'</td>\n",
              "      <td>'28007'</td>\n",
              "      <td>'M1823072687'</td>\n",
              "      <td>'28007'</td>\n",
              "      <td>'es_transportation'</td>\n",
              "      <td>26.89</td>\n",
              "    </tr>\n",
              "    <tr>\n",
              "      <th>3</th>\n",
              "      <td>0</td>\n",
              "      <td>'C1760612790'</td>\n",
              "      <td>'3'</td>\n",
              "      <td>'M'</td>\n",
              "      <td>'28007'</td>\n",
              "      <td>'M348934600'</td>\n",
              "      <td>'28007'</td>\n",
              "      <td>'es_transportation'</td>\n",
              "      <td>17.25</td>\n",
              "    </tr>\n",
              "    <tr>\n",
              "      <th>4</th>\n",
              "      <td>0</td>\n",
              "      <td>'C757503768'</td>\n",
              "      <td>'5'</td>\n",
              "      <td>'M'</td>\n",
              "      <td>'28007'</td>\n",
              "      <td>'M348934600'</td>\n",
              "      <td>'28007'</td>\n",
              "      <td>'es_transportation'</td>\n",
              "      <td>35.72</td>\n",
              "    </tr>\n",
              "  </tbody>\n",
              "</table>\n",
              "</div>"
            ],
            "text/plain": [
              "   step       customer  age gender zipcodeOri       merchant zipMerchant   \n",
              "0     0  'C1093826151'  '4'    'M'    '28007'   'M348934600'     '28007'  \\\n",
              "1     0   'C352968107'  '2'    'M'    '28007'   'M348934600'     '28007'   \n",
              "2     0  'C2054744914'  '4'    'F'    '28007'  'M1823072687'     '28007'   \n",
              "3     0  'C1760612790'  '3'    'M'    '28007'   'M348934600'     '28007'   \n",
              "4     0   'C757503768'  '5'    'M'    '28007'   'M348934600'     '28007'   \n",
              "\n",
              "              category  amount  \n",
              "0  'es_transportation'    4.55  \n",
              "1  'es_transportation'   39.68  \n",
              "2  'es_transportation'   26.89  \n",
              "3  'es_transportation'   17.25  \n",
              "4  'es_transportation'   35.72  "
            ]
          },
          "execution_count": 3,
          "metadata": {},
          "output_type": "execute_result"
        }
      ],
      "source": [
        "y = transactions['fraud']\n",
        "X = transactions.drop(columns=['fraud'])\n",
        "\n",
        "X.head()"
      ]
    },
    {
      "cell_type": "code",
      "execution_count": 4,
      "metadata": {
        "id": "WONKyN7MDV8r"
      },
      "outputs": [],
      "source": [
        "X_train, X_test, y_train, y_test = train_test_split(X, y, random_state=42)"
      ]
    },
    {
      "cell_type": "code",
      "execution_count": 5,
      "metadata": {
        "colab": {
          "base_uri": "https://localhost:8080/",
          "height": 151
        },
        "id": "P4IOL9nmCuzA",
        "outputId": "447a1fd2-3de9-4b12-80fc-58132725cb8a"
      },
      "outputs": [
        {
          "data": {
            "text/html": [
              "<style>#sk-container-id-1 {color: black;background-color: white;}#sk-container-id-1 pre{padding: 0;}#sk-container-id-1 div.sk-toggleable {background-color: white;}#sk-container-id-1 label.sk-toggleable__label {cursor: pointer;display: block;width: 100%;margin-bottom: 0;padding: 0.3em;box-sizing: border-box;text-align: center;}#sk-container-id-1 label.sk-toggleable__label-arrow:before {content: \"▸\";float: left;margin-right: 0.25em;color: #696969;}#sk-container-id-1 label.sk-toggleable__label-arrow:hover:before {color: black;}#sk-container-id-1 div.sk-estimator:hover label.sk-toggleable__label-arrow:before {color: black;}#sk-container-id-1 div.sk-toggleable__content {max-height: 0;max-width: 0;overflow: hidden;text-align: left;background-color: #f0f8ff;}#sk-container-id-1 div.sk-toggleable__content pre {margin: 0.2em;color: black;border-radius: 0.25em;background-color: #f0f8ff;}#sk-container-id-1 input.sk-toggleable__control:checked~div.sk-toggleable__content {max-height: 200px;max-width: 100%;overflow: auto;}#sk-container-id-1 input.sk-toggleable__control:checked~label.sk-toggleable__label-arrow:before {content: \"▾\";}#sk-container-id-1 div.sk-estimator input.sk-toggleable__control:checked~label.sk-toggleable__label {background-color: #d4ebff;}#sk-container-id-1 div.sk-label input.sk-toggleable__control:checked~label.sk-toggleable__label {background-color: #d4ebff;}#sk-container-id-1 input.sk-hidden--visually {border: 0;clip: rect(1px 1px 1px 1px);clip: rect(1px, 1px, 1px, 1px);height: 1px;margin: -1px;overflow: hidden;padding: 0;position: absolute;width: 1px;}#sk-container-id-1 div.sk-estimator {font-family: monospace;background-color: #f0f8ff;border: 1px dotted black;border-radius: 0.25em;box-sizing: border-box;margin-bottom: 0.5em;}#sk-container-id-1 div.sk-estimator:hover {background-color: #d4ebff;}#sk-container-id-1 div.sk-parallel-item::after {content: \"\";width: 100%;border-bottom: 1px solid gray;flex-grow: 1;}#sk-container-id-1 div.sk-label:hover label.sk-toggleable__label {background-color: #d4ebff;}#sk-container-id-1 div.sk-serial::before {content: \"\";position: absolute;border-left: 1px solid gray;box-sizing: border-box;top: 0;bottom: 0;left: 50%;z-index: 0;}#sk-container-id-1 div.sk-serial {display: flex;flex-direction: column;align-items: center;background-color: white;padding-right: 0.2em;padding-left: 0.2em;position: relative;}#sk-container-id-1 div.sk-item {position: relative;z-index: 1;}#sk-container-id-1 div.sk-parallel {display: flex;align-items: stretch;justify-content: center;background-color: white;position: relative;}#sk-container-id-1 div.sk-item::before, #sk-container-id-1 div.sk-parallel-item::before {content: \"\";position: absolute;border-left: 1px solid gray;box-sizing: border-box;top: 0;bottom: 0;left: 50%;z-index: -1;}#sk-container-id-1 div.sk-parallel-item {display: flex;flex-direction: column;z-index: 1;position: relative;background-color: white;}#sk-container-id-1 div.sk-parallel-item:first-child::after {align-self: flex-end;width: 50%;}#sk-container-id-1 div.sk-parallel-item:last-child::after {align-self: flex-start;width: 50%;}#sk-container-id-1 div.sk-parallel-item:only-child::after {width: 0;}#sk-container-id-1 div.sk-dashed-wrapped {border: 1px dashed gray;margin: 0 0.4em 0.5em 0.4em;box-sizing: border-box;padding-bottom: 0.4em;background-color: white;}#sk-container-id-1 div.sk-label label {font-family: monospace;font-weight: bold;display: inline-block;line-height: 1.2em;}#sk-container-id-1 div.sk-label-container {text-align: center;}#sk-container-id-1 div.sk-container {/* jupyter's `normalize.less` sets `[hidden] { display: none; }` but bootstrap.min.css set `[hidden] { display: none !important; }` so we also need the `!important` here to be able to override the default hidden behavior on the sphinx rendered scikit-learn.org. See: https://github.com/scikit-learn/scikit-learn/issues/21755 */display: inline-block !important;position: relative;}#sk-container-id-1 div.sk-text-repr-fallback {display: none;}</style><div id=\"sk-container-id-1\" class=\"sk-top-container\"><div class=\"sk-text-repr-fallback\"><pre>ColumnTransformer(remainder=&#x27;passthrough&#x27;,\n",
              "                  transformers=[(&#x27;One Hot Encoder&#x27;, OneHotEncoder(drop=&#x27;first&#x27;),\n",
              "                                 [&#x27;category&#x27;, &#x27;gender&#x27;]),\n",
              "                                (&#x27;Age Pipe&#x27;,\n",
              "                                 Pipeline(steps=[(&#x27;ord&#x27;,\n",
              "                                                  OrdinalEncoder(handle_unknown=&#x27;use_encoded_value&#x27;,\n",
              "                                                                 unknown_value=-1)),\n",
              "                                                 (&#x27;scale&#x27;, MinMaxScaler())]),\n",
              "                                 [&#x27;age&#x27;]),\n",
              "                                (&#x27;MinMaxScaler&#x27;, MinMaxScaler(),\n",
              "                                 [&#x27;amount&#x27;, &#x27;step&#x27;]),\n",
              "                                (&#x27;drop&#x27;, &#x27;drop&#x27;,\n",
              "                                 [&#x27;zipcodeOri&#x27;, &#x27;zipMerchant&#x27;, &#x27;customer&#x27;,\n",
              "                                  &#x27;merchant&#x27;])])</pre><b>In a Jupyter environment, please rerun this cell to show the HTML representation or trust the notebook. <br />On GitHub, the HTML representation is unable to render, please try loading this page with nbviewer.org.</b></div><div class=\"sk-container\" hidden><div class=\"sk-item sk-dashed-wrapped\"><div class=\"sk-label-container\"><div class=\"sk-label sk-toggleable\"><input class=\"sk-toggleable__control sk-hidden--visually\" id=\"sk-estimator-id-1\" type=\"checkbox\" ><label for=\"sk-estimator-id-1\" class=\"sk-toggleable__label sk-toggleable__label-arrow\">ColumnTransformer</label><div class=\"sk-toggleable__content\"><pre>ColumnTransformer(remainder=&#x27;passthrough&#x27;,\n",
              "                  transformers=[(&#x27;One Hot Encoder&#x27;, OneHotEncoder(drop=&#x27;first&#x27;),\n",
              "                                 [&#x27;category&#x27;, &#x27;gender&#x27;]),\n",
              "                                (&#x27;Age Pipe&#x27;,\n",
              "                                 Pipeline(steps=[(&#x27;ord&#x27;,\n",
              "                                                  OrdinalEncoder(handle_unknown=&#x27;use_encoded_value&#x27;,\n",
              "                                                                 unknown_value=-1)),\n",
              "                                                 (&#x27;scale&#x27;, MinMaxScaler())]),\n",
              "                                 [&#x27;age&#x27;]),\n",
              "                                (&#x27;MinMaxScaler&#x27;, MinMaxScaler(),\n",
              "                                 [&#x27;amount&#x27;, &#x27;step&#x27;]),\n",
              "                                (&#x27;drop&#x27;, &#x27;drop&#x27;,\n",
              "                                 [&#x27;zipcodeOri&#x27;, &#x27;zipMerchant&#x27;, &#x27;customer&#x27;,\n",
              "                                  &#x27;merchant&#x27;])])</pre></div></div></div><div class=\"sk-parallel\"><div class=\"sk-parallel-item\"><div class=\"sk-item\"><div class=\"sk-label-container\"><div class=\"sk-label sk-toggleable\"><input class=\"sk-toggleable__control sk-hidden--visually\" id=\"sk-estimator-id-2\" type=\"checkbox\" ><label for=\"sk-estimator-id-2\" class=\"sk-toggleable__label sk-toggleable__label-arrow\">One Hot Encoder</label><div class=\"sk-toggleable__content\"><pre>[&#x27;category&#x27;, &#x27;gender&#x27;]</pre></div></div></div><div class=\"sk-serial\"><div class=\"sk-item\"><div class=\"sk-estimator sk-toggleable\"><input class=\"sk-toggleable__control sk-hidden--visually\" id=\"sk-estimator-id-3\" type=\"checkbox\" ><label for=\"sk-estimator-id-3\" class=\"sk-toggleable__label sk-toggleable__label-arrow\">OneHotEncoder</label><div class=\"sk-toggleable__content\"><pre>OneHotEncoder(drop=&#x27;first&#x27;)</pre></div></div></div></div></div></div><div class=\"sk-parallel-item\"><div class=\"sk-item\"><div class=\"sk-label-container\"><div class=\"sk-label sk-toggleable\"><input class=\"sk-toggleable__control sk-hidden--visually\" id=\"sk-estimator-id-4\" type=\"checkbox\" ><label for=\"sk-estimator-id-4\" class=\"sk-toggleable__label sk-toggleable__label-arrow\">Age Pipe</label><div class=\"sk-toggleable__content\"><pre>[&#x27;age&#x27;]</pre></div></div></div><div class=\"sk-serial\"><div class=\"sk-item\"><div class=\"sk-serial\"><div class=\"sk-item\"><div class=\"sk-estimator sk-toggleable\"><input class=\"sk-toggleable__control sk-hidden--visually\" id=\"sk-estimator-id-5\" type=\"checkbox\" ><label for=\"sk-estimator-id-5\" class=\"sk-toggleable__label sk-toggleable__label-arrow\">OrdinalEncoder</label><div class=\"sk-toggleable__content\"><pre>OrdinalEncoder(handle_unknown=&#x27;use_encoded_value&#x27;, unknown_value=-1)</pre></div></div></div><div class=\"sk-item\"><div class=\"sk-estimator sk-toggleable\"><input class=\"sk-toggleable__control sk-hidden--visually\" id=\"sk-estimator-id-6\" type=\"checkbox\" ><label for=\"sk-estimator-id-6\" class=\"sk-toggleable__label sk-toggleable__label-arrow\">MinMaxScaler</label><div class=\"sk-toggleable__content\"><pre>MinMaxScaler()</pre></div></div></div></div></div></div></div></div><div class=\"sk-parallel-item\"><div class=\"sk-item\"><div class=\"sk-label-container\"><div class=\"sk-label sk-toggleable\"><input class=\"sk-toggleable__control sk-hidden--visually\" id=\"sk-estimator-id-7\" type=\"checkbox\" ><label for=\"sk-estimator-id-7\" class=\"sk-toggleable__label sk-toggleable__label-arrow\">MinMaxScaler</label><div class=\"sk-toggleable__content\"><pre>[&#x27;amount&#x27;, &#x27;step&#x27;]</pre></div></div></div><div class=\"sk-serial\"><div class=\"sk-item\"><div class=\"sk-estimator sk-toggleable\"><input class=\"sk-toggleable__control sk-hidden--visually\" id=\"sk-estimator-id-8\" type=\"checkbox\" ><label for=\"sk-estimator-id-8\" class=\"sk-toggleable__label sk-toggleable__label-arrow\">MinMaxScaler</label><div class=\"sk-toggleable__content\"><pre>MinMaxScaler()</pre></div></div></div></div></div></div><div class=\"sk-parallel-item\"><div class=\"sk-item\"><div class=\"sk-label-container\"><div class=\"sk-label sk-toggleable\"><input class=\"sk-toggleable__control sk-hidden--visually\" id=\"sk-estimator-id-9\" type=\"checkbox\" ><label for=\"sk-estimator-id-9\" class=\"sk-toggleable__label sk-toggleable__label-arrow\">drop</label><div class=\"sk-toggleable__content\"><pre>[&#x27;zipcodeOri&#x27;, &#x27;zipMerchant&#x27;, &#x27;customer&#x27;, &#x27;merchant&#x27;]</pre></div></div></div><div class=\"sk-serial\"><div class=\"sk-item\"><div class=\"sk-estimator sk-toggleable\"><input class=\"sk-toggleable__control sk-hidden--visually\" id=\"sk-estimator-id-10\" type=\"checkbox\" ><label for=\"sk-estimator-id-10\" class=\"sk-toggleable__label sk-toggleable__label-arrow\">drop</label><div class=\"sk-toggleable__content\"><pre>drop</pre></div></div></div></div></div></div><div class=\"sk-parallel-item\"><div class=\"sk-item\"><div class=\"sk-label-container\"><div class=\"sk-label sk-toggleable\"><input class=\"sk-toggleable__control sk-hidden--visually\" id=\"sk-estimator-id-11\" type=\"checkbox\" ><label for=\"sk-estimator-id-11\" class=\"sk-toggleable__label sk-toggleable__label-arrow\">remainder</label><div class=\"sk-toggleable__content\"><pre>[]</pre></div></div></div><div class=\"sk-serial\"><div class=\"sk-item\"><div class=\"sk-estimator sk-toggleable\"><input class=\"sk-toggleable__control sk-hidden--visually\" id=\"sk-estimator-id-12\" type=\"checkbox\" ><label for=\"sk-estimator-id-12\" class=\"sk-toggleable__label sk-toggleable__label-arrow\">passthrough</label><div class=\"sk-toggleable__content\"><pre>passthrough</pre></div></div></div></div></div></div></div></div></div></div>"
            ],
            "text/plain": [
              "ColumnTransformer(remainder='passthrough',\n",
              "                  transformers=[('One Hot Encoder', OneHotEncoder(drop='first'),\n",
              "                                 ['category', 'gender']),\n",
              "                                ('Age Pipe',\n",
              "                                 Pipeline(steps=[('ord',\n",
              "                                                  OrdinalEncoder(handle_unknown='use_encoded_value',\n",
              "                                                                 unknown_value=-1)),\n",
              "                                                 ('scale', MinMaxScaler())]),\n",
              "                                 ['age']),\n",
              "                                ('MinMaxScaler', MinMaxScaler(),\n",
              "                                 ['amount', 'step']),\n",
              "                                ('drop', 'drop',\n",
              "                                 ['zipcodeOri', 'zipMerchant', 'customer',\n",
              "                                  'merchant'])])"
            ]
          },
          "execution_count": 5,
          "metadata": {},
          "output_type": "execute_result"
        }
      ],
      "source": [
        "transformer = ColumnTransformer([('One Hot Encoder', OneHotEncoder(drop='first'), ['category', 'gender']),\n",
        "                                 ('Age Pipe', Pipeline([('ord', OrdinalEncoder(handle_unknown='use_encoded_value', unknown_value=-1)), ('scale', MinMaxScaler())]), ['age']),\n",
        "                                 ('MinMaxScaler', MinMaxScaler(), ['amount', 'step']),\n",
        "                                 ('drop', 'drop', ['zipcodeOri', 'zipMerchant', 'customer', 'merchant'])], remainder = 'passthrough')\n",
        "transformer.fit(X_train)"
      ]
    },
    {
      "cell_type": "code",
      "execution_count": 6,
      "metadata": {
        "id": "piu-4hpHFVrj"
      },
      "outputs": [],
      "source": [
        "def score_model(model, X_test, y_test, map = None):\n",
        "    model_preds = model.predict(X_test)\n",
        "    scores = {}\n",
        "    if map:\n",
        "        model_preds = [map[i] for i in model_preds]\n",
        "    evaluation_funcs = {'accuracy':accuracy_score, 'precision':precision_score, 'recall':recall_score, 'f1':f1_score, 'MCC':matthews_corrcoef}\n",
        "    for name, score in evaluation_funcs.items():\n",
        "        scores[name] = score(y_pred = model_preds, y_true = y_test)\n",
        "    scores['ROC-AUC'] = roc_auc_score(y_score = model_preds, y_true = y_test)\n",
        "    scores['AUPR'] = average_precision_score(y_score = model_preds, y_true = y_test)\n",
        "    return scores"
      ]
    },
    {
      "cell_type": "code",
      "execution_count": 7,
      "metadata": {
        "colab": {
          "base_uri": "https://localhost:8080/"
        },
        "id": "k79bUca0MWXz",
        "outputId": "2ba3bb58-edf9-427e-c0dc-456cbe782981"
      },
      "outputs": [
        {
          "name": "stdout",
          "output_type": "stream",
          "text": [
            "accuracy: 0.9913090857723277\n",
            "precision: 0.6225910064239829\n",
            "recall: 0.6645714285714286\n",
            "f1: 0.6428966279712548\n",
            "MCC: 0.6388506653966829\n",
            "ROC-AUC: 0.8298863023968837\n",
            "AUPR: 0.41770477555463403\n"
          ]
        }
      ],
      "source": [
        "decision_tree = Pipeline(steps=[('transformer', transformer), ('model', DecisionTreeClassifier(random_state=42))])\n",
        "decision_tree.fit(X_train, y_train)\n",
        "desc_tree_scores = score_model(decision_tree, X_test, y_test)\n",
        "for name, score in desc_tree_scores.items():\n",
        "    print(f'{name}: {score}')"
      ]
    },
    {
      "cell_type": "code",
      "execution_count": 8,
      "metadata": {
        "colab": {
          "base_uri": "https://localhost:8080/"
        },
        "id": "9QNNYaY2OK7U",
        "outputId": "7a40acbe-45da-487a-bd87-e8ad2538f8ac"
      },
      "outputs": [
        {
          "name": "stdout",
          "output_type": "stream",
          "text": [
            "accuracy: 0.9947464365233653\n",
            "precision: 0.862378459237098\n",
            "recall: 0.6588571428571428\n",
            "f1: 0.747003563330094\n",
            "MCC: 0.7512917590930227\n",
            "ROC-AUC: 0.8288023419426922\n",
            "AUPR: 0.5722000558522087\n"
          ]
        }
      ],
      "source": [
        "random_forest = Pipeline(steps=[('transformer', transformer), ('model', RandomForestClassifier(random_state=42))])\n",
        "random_forest.fit(X_train, y_train)\n",
        "random_forest_scores = score_model(random_forest, X_test, y_test)\n",
        "for name, score in random_forest_scores.items():\n",
        "    print(f'{name}: {score}')"
      ]
    },
    {
      "cell_type": "code",
      "execution_count": 9,
      "metadata": {
        "id": "ffwCHTEiOaUy"
      },
      "outputs": [
        {
          "name": "stdout",
          "output_type": "stream",
          "text": [
            "accuracy: 0.9928024162355964\n",
            "precision: 0.8393213572854291\n",
            "recall: 0.4805714285714286\n",
            "f1: 0.6111918604651163\n",
            "MCC: 0.6320461710849047\n",
            "ROC-AUC: 0.7397377634855701\n",
            "AUPR: 0.4094684465440129\n"
          ]
        }
      ],
      "source": [
        "KNN = Pipeline(steps=[('transformer', transformer), ('model', KNeighborsClassifier())])\n",
        "KNN.fit(X_train, y_train)\n",
        "KNN_scores = score_model(KNN, X_test, y_test)\n",
        "for name, score in KNN_scores.items():\n",
        "    print(f'{name}: {score}')"
      ]
    },
    {
      "cell_type": "code",
      "execution_count": 10,
      "metadata": {
        "id": "4j1-idC-Orsh"
      },
      "outputs": [
        {
          "name": "stdout",
          "output_type": "stream",
          "text": [
            "accuracy: 0.9949751447925145\n",
            "precision: 0.9563239308462238\n",
            "recall: 0.6005714285714285\n",
            "f1: 0.7378027378027378\n",
            "MCC: 0.7557678326203371\n",
            "ROC-AUC: 0.8001223500720067\n",
            "AUPR: 0.5790428022705177\n"
          ]
        }
      ],
      "source": [
        "MLP = Pipeline(steps=[('transformer', transformer), ('model', MLPClassifier(hidden_layer_sizes=(15, 15, 15), random_state=42))])\n",
        "MLP.fit(X_train, y_train)\n",
        "MLP_scores = score_model(MLP, X_test, y_test)\n",
        "for name, score in MLP_scores.items():\n",
        "    print(f'{name}: {score}')"
      ]
    },
    {
      "cell_type": "code",
      "execution_count": 11,
      "metadata": {
        "id": "IozjAWuZO9TA"
      },
      "outputs": [
        {
          "name": "stdout",
          "output_type": "stream",
          "text": [
            "accuracy: 0.9153241267043811\n",
            "precision: 0.12136668529904975\n",
            "recall: 0.9925714285714285\n",
            "f1: 0.21628688830780726\n",
            "MCC: 0.33164564650216777\n",
            "ROC-AUC: 0.9534876937154368\n",
            "AUPR: 0.12055255148763741\n"
          ]
        }
      ],
      "source": [
        "SVC = Pipeline(steps=[('transformer', transformer), ('model', SVC(class_weight='balanced', random_state=42))])\n",
        "SVC.fit(X_train, y_train)\n",
        "SVC_scores = score_model(SVC, X_test, y_test)\n",
        "for name, score in SVC_scores.items():\n",
        "    print(f'{name}: {score}')"
      ]
    },
    {
      "cell_type": "code",
      "execution_count": 12,
      "metadata": {
        "id": "iTfPDkWlO8hX"
      },
      "outputs": [
        {
          "name": "stdout",
          "output_type": "stream",
          "text": [
            "accuracy: 0.983156308648536\n",
            "precision: 0.29240088105726875\n",
            "recall: 0.30342857142857144\n",
            "f1: 0.297812675266405\n",
            "MCC: 0.28934232118595815\n",
            "ROC-AUC: 0.6473408895764879\n",
            "AUPR: 0.09692264574404397\n"
          ]
        }
      ],
      "source": [
        "ISO = Pipeline(steps=[('transformer', transformer), ('model', IsolationForest(contamination=sum(y_train)/len(y_train), random_state=42))])\n",
        "ISO.fit(X_train, y_train)\n",
        "ISO_scores = score_model(ISO, X_test, y_test, map={1:0, -1:1})\n",
        "for name, score in ISO_scores.items():\n",
        "    print(f'{name}: {score}')"
      ]
    },
    {
      "cell_type": "code",
      "execution_count": 13,
      "metadata": {
        "id": "5LfLlt3Wfl0q"
      },
      "outputs": [
        {
          "name": "stdout",
          "output_type": "stream",
          "text": [
            "accuracy: 0.979053013231446\n",
            "precision: 0.13214670981661272\n",
            "recall: 0.14\n",
            "f1: 0.13596004439511655\n",
            "MCC: 0.1254204946321358\n",
            "ROC-AUC: 0.5645238954196758\n",
            "AUPR: 0.028624243641080342\n"
          ]
        }
      ],
      "source": [
        "\n",
        "LOF = Pipeline(steps=[('transformer', transformer), ('model', LocalOutlierFactor(n_neighbors=10, novelty=True, contamination=sum(y_train)/len(y_train)))])\n",
        "LOF.fit(X_train, y_train)\n",
        "LOF_scores = score_model(LOF, X_test, y_test, map={1:0, -1:1})\n",
        "for name, score in LOF_scores.items():\n",
        "    print(f'{name}: {score}')"
      ]
    },
    {
      "cell_type": "code",
      "execution_count": 14,
      "metadata": {},
      "outputs": [
        {
          "data": {
            "text/html": [
              "<div>\n",
              "<style scoped>\n",
              "    .dataframe tbody tr th:only-of-type {\n",
              "        vertical-align: middle;\n",
              "    }\n",
              "\n",
              "    .dataframe tbody tr th {\n",
              "        vertical-align: top;\n",
              "    }\n",
              "\n",
              "    .dataframe thead th {\n",
              "        text-align: right;\n",
              "    }\n",
              "</style>\n",
              "<table border=\"1\" class=\"dataframe\">\n",
              "  <thead>\n",
              "    <tr style=\"text-align: right;\">\n",
              "      <th></th>\n",
              "      <th>accuracy</th>\n",
              "      <th>precision</th>\n",
              "      <th>recall</th>\n",
              "      <th>f1</th>\n",
              "      <th>MCC</th>\n",
              "      <th>ROC-AUC</th>\n",
              "      <th>AUPR</th>\n",
              "    </tr>\n",
              "  </thead>\n",
              "  <tbody>\n",
              "    <tr>\n",
              "      <th>Decision Tree</th>\n",
              "      <td>99.150</td>\n",
              "      <td>65.854</td>\n",
              "      <td>76.416</td>\n",
              "      <td>70.743</td>\n",
              "      <td>70.120</td>\n",
              "      <td>87.922</td>\n",
              "      <td>68.231</td>\n",
              "    </tr>\n",
              "    <tr>\n",
              "      <th>Random Forest</th>\n",
              "      <td>98.463</td>\n",
              "      <td>82.781</td>\n",
              "      <td>71.897</td>\n",
              "      <td>76.956</td>\n",
              "      <td>76.779</td>\n",
              "      <td>85.848</td>\n",
              "      <td>70.232</td>\n",
              "    </tr>\n",
              "    <tr>\n",
              "      <th>K-NN</th>\n",
              "      <td>98.789</td>\n",
              "      <td>76.191</td>\n",
              "      <td>64.263</td>\n",
              "      <td>69.721</td>\n",
              "      <td>70.988</td>\n",
              "      <td>81.243</td>\n",
              "      <td>68.007</td>\n",
              "    </tr>\n",
              "    <tr>\n",
              "      <th>MLP</th>\n",
              "      <td>98.789</td>\n",
              "      <td>85.623</td>\n",
              "      <td>54.722</td>\n",
              "      <td>66.771</td>\n",
              "      <td>65.215</td>\n",
              "      <td>77.119</td>\n",
              "      <td>71.435</td>\n",
              "    </tr>\n",
              "    <tr>\n",
              "      <th>SVM</th>\n",
              "      <td>98.192</td>\n",
              "      <td>77.452</td>\n",
              "      <td>51.123</td>\n",
              "      <td>61.592</td>\n",
              "      <td>62.822</td>\n",
              "      <td>78.193</td>\n",
              "      <td>74.657</td>\n",
              "    </tr>\n",
              "    <tr>\n",
              "      <th>LOF</th>\n",
              "      <td>98.189</td>\n",
              "      <td>78.102</td>\n",
              "      <td>81.495</td>\n",
              "      <td>79.762</td>\n",
              "      <td>66.318</td>\n",
              "      <td>82.229</td>\n",
              "      <td>78.228</td>\n",
              "    </tr>\n",
              "    <tr>\n",
              "      <th>IF</th>\n",
              "      <td>99.381</td>\n",
              "      <td>81.162</td>\n",
              "      <td>82.997</td>\n",
              "      <td>82.069</td>\n",
              "      <td>69.829</td>\n",
              "      <td>80.071</td>\n",
              "      <td>84.994</td>\n",
              "    </tr>\n",
              "  </tbody>\n",
              "</table>\n",
              "</div>"
            ],
            "text/plain": [
              "               accuracy  precision  recall      f1     MCC  ROC-AUC    AUPR\n",
              "Decision Tree    99.150     65.854  76.416  70.743  70.120   87.922  68.231\n",
              "Random Forest    98.463     82.781  71.897  76.956  76.779   85.848  70.232\n",
              "K-NN             98.789     76.191  64.263  69.721  70.988   81.243  68.007\n",
              "MLP              98.789     85.623  54.722  66.771  65.215   77.119  71.435\n",
              "SVM              98.192     77.452  51.123  61.592  62.822   78.193  74.657\n",
              "LOF              98.189     78.102  81.495  79.762  66.318   82.229  78.228\n",
              "IF               99.381     81.162  82.997  82.069  69.829   80.071  84.994"
            ]
          },
          "execution_count": 14,
          "metadata": {},
          "output_type": "execute_result"
        }
      ],
      "source": [
        "paper_scores = {\n",
        "    'Decision Tree': [99.150, 65.854, 76.416, 70.743, 70.120, 87.922, 68.231],\n",
        "    'Random Forest': [98.463, 82.781, 71.897, 76.956, 76.779, 85.848, 70.232],\n",
        "    'K-NN' : [98.789, 76.191, 64.263, 69.721, 70.988, 81.243, 68.007], \n",
        "    'MLP' : [98.789, 85.623, 54.722, 66.771, 65.215, 77.119, 71.435], \n",
        "    'SVM' : [98.192, 77.452, 51.123, 61.592, 62.822, 78.193, 74.657], \n",
        "    'LOF' : [98.189, 78.102, 81.495, 79.762, 66.318, 82.229, 78.228], \n",
        "    'IF' : [99.381, 81.162, 82.997, 82.069, 69.829, 80.071, 84.994]\n",
        "}\n",
        "\n",
        "paper_scores_df = pd.DataFrame(paper_scores).T\n",
        "paper_scores_df.columns = ['accuracy', 'precision', 'recall', 'f1', 'MCC', 'ROC-AUC', 'AUPR']\n",
        "paper_scores_df"
      ]
    },
    {
      "cell_type": "code",
      "execution_count": 15,
      "metadata": {},
      "outputs": [
        {
          "data": {
            "text/html": [
              "<div>\n",
              "<style scoped>\n",
              "    .dataframe tbody tr th:only-of-type {\n",
              "        vertical-align: middle;\n",
              "    }\n",
              "\n",
              "    .dataframe tbody tr th {\n",
              "        vertical-align: top;\n",
              "    }\n",
              "\n",
              "    .dataframe thead th {\n",
              "        text-align: right;\n",
              "    }\n",
              "</style>\n",
              "<table border=\"1\" class=\"dataframe\">\n",
              "  <thead>\n",
              "    <tr style=\"text-align: right;\">\n",
              "      <th></th>\n",
              "      <th>accuracy</th>\n",
              "      <th>precision</th>\n",
              "      <th>recall</th>\n",
              "      <th>f1</th>\n",
              "      <th>MCC</th>\n",
              "      <th>ROC-AUC</th>\n",
              "      <th>AUPR</th>\n",
              "    </tr>\n",
              "  </thead>\n",
              "  <tbody>\n",
              "    <tr>\n",
              "      <th>Decision Tree</th>\n",
              "      <td>99.130909</td>\n",
              "      <td>62.259101</td>\n",
              "      <td>66.457143</td>\n",
              "      <td>64.289663</td>\n",
              "      <td>63.885067</td>\n",
              "      <td>82.988630</td>\n",
              "      <td>41.770478</td>\n",
              "    </tr>\n",
              "    <tr>\n",
              "      <th>Random Forest</th>\n",
              "      <td>99.474644</td>\n",
              "      <td>86.237846</td>\n",
              "      <td>65.885714</td>\n",
              "      <td>74.700356</td>\n",
              "      <td>75.129176</td>\n",
              "      <td>82.880234</td>\n",
              "      <td>57.220006</td>\n",
              "    </tr>\n",
              "    <tr>\n",
              "      <th>K-NN</th>\n",
              "      <td>99.280242</td>\n",
              "      <td>83.932136</td>\n",
              "      <td>48.057143</td>\n",
              "      <td>61.119186</td>\n",
              "      <td>63.204617</td>\n",
              "      <td>73.973776</td>\n",
              "      <td>40.946845</td>\n",
              "    </tr>\n",
              "    <tr>\n",
              "      <th>MLP</th>\n",
              "      <td>99.497514</td>\n",
              "      <td>95.632393</td>\n",
              "      <td>60.057143</td>\n",
              "      <td>73.780274</td>\n",
              "      <td>75.576783</td>\n",
              "      <td>80.012235</td>\n",
              "      <td>57.904280</td>\n",
              "    </tr>\n",
              "    <tr>\n",
              "      <th>SVM</th>\n",
              "      <td>91.532413</td>\n",
              "      <td>12.136669</td>\n",
              "      <td>99.257143</td>\n",
              "      <td>21.628689</td>\n",
              "      <td>33.164565</td>\n",
              "      <td>95.348769</td>\n",
              "      <td>12.055255</td>\n",
              "    </tr>\n",
              "    <tr>\n",
              "      <th>LOF</th>\n",
              "      <td>97.905301</td>\n",
              "      <td>13.214671</td>\n",
              "      <td>14.000000</td>\n",
              "      <td>13.596004</td>\n",
              "      <td>12.542049</td>\n",
              "      <td>56.452390</td>\n",
              "      <td>2.862424</td>\n",
              "    </tr>\n",
              "    <tr>\n",
              "      <th>IF</th>\n",
              "      <td>98.315631</td>\n",
              "      <td>29.240088</td>\n",
              "      <td>30.342857</td>\n",
              "      <td>29.781268</td>\n",
              "      <td>28.934232</td>\n",
              "      <td>64.734089</td>\n",
              "      <td>9.692265</td>\n",
              "    </tr>\n",
              "  </tbody>\n",
              "</table>\n",
              "</div>"
            ],
            "text/plain": [
              "                accuracy  precision     recall         f1        MCC   \n",
              "Decision Tree  99.130909  62.259101  66.457143  64.289663  63.885067  \\\n",
              "Random Forest  99.474644  86.237846  65.885714  74.700356  75.129176   \n",
              "K-NN           99.280242  83.932136  48.057143  61.119186  63.204617   \n",
              "MLP            99.497514  95.632393  60.057143  73.780274  75.576783   \n",
              "SVM            91.532413  12.136669  99.257143  21.628689  33.164565   \n",
              "LOF            97.905301  13.214671  14.000000  13.596004  12.542049   \n",
              "IF             98.315631  29.240088  30.342857  29.781268  28.934232   \n",
              "\n",
              "                 ROC-AUC       AUPR  \n",
              "Decision Tree  82.988630  41.770478  \n",
              "Random Forest  82.880234  57.220006  \n",
              "K-NN           73.973776  40.946845  \n",
              "MLP            80.012235  57.904280  \n",
              "SVM            95.348769  12.055255  \n",
              "LOF            56.452390   2.862424  \n",
              "IF             64.734089   9.692265  "
            ]
          },
          "execution_count": 15,
          "metadata": {},
          "output_type": "execute_result"
        }
      ],
      "source": [
        "my_scores = {\n",
        "    'Decision Tree': desc_tree_scores,\n",
        "    'Random Forest': random_forest_scores,\n",
        "    'K-NN': KNN_scores,\n",
        "    'MLP': MLP_scores,\n",
        "    'SVM': SVC_scores,\n",
        "    'LOF': LOF_scores,\n",
        "    'IF': ISO_scores\n",
        "}\n",
        "\n",
        "my_scores_df = pd.DataFrame(my_scores).T * 100\n",
        "my_scores_df "
      ]
    },
    {
      "cell_type": "code",
      "execution_count": 16,
      "metadata": {},
      "outputs": [
        {
          "data": {
            "text/plain": [
              "Random Forest     4.337858\n",
              "MLP               7.121152\n",
              "Decision Tree     8.236430\n",
              "K-NN             10.736116\n",
              "SVM              38.498189\n",
              "IF               41.351796\n",
              "LOF              50.535737\n",
              "dtype: float64"
            ]
          },
          "execution_count": 16,
          "metadata": {},
          "output_type": "execute_result"
        }
      ],
      "source": [
        "score_diff_df = paper_scores_df - my_scores_df\n",
        "score_diff_df.abs().mean(axis=1).sort_values()"
      ]
    }
  ],
  "metadata": {
    "colab": {
      "gpuType": "T4",
      "provenance": []
    },
    "kernelspec": {
      "display_name": "Python 3",
      "name": "python3"
    },
    "language_info": {
      "codemirror_mode": {
        "name": "ipython",
        "version": 3
      },
      "file_extension": ".py",
      "mimetype": "text/x-python",
      "name": "python",
      "nbconvert_exporter": "python",
      "pygments_lexer": "ipython3",
      "version": "3.11.1"
    }
  },
  "nbformat": 4,
  "nbformat_minor": 0
}
