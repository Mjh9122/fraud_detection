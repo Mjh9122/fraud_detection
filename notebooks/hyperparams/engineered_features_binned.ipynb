{
 "cells": [
  {
   "cell_type": "code",
   "execution_count": 51,
   "metadata": {},
   "outputs": [],
   "source": [
    "import pandas as pd\n",
    "import numpy as np\n",
    "import seaborn as sns\n",
    "\n",
    "from matplotlib import pyplot as plt\n",
    "\n",
    "from os import listdir\n",
    "from sklearn.compose import ColumnTransformer\n",
    "from sklearn.ensemble import RandomForestClassifier, IsolationForest\n",
    "from sklearn.metrics import f1_score, accuracy_score, matthews_corrcoef, precision_score, roc_auc_score, recall_score, average_precision_score, make_scorer\n",
    "from sklearn.model_selection import train_test_split, GridSearchCV\n",
    "from sklearn.neighbors import KNeighborsClassifier, LocalOutlierFactor\n",
    "from sklearn.neural_network import MLPClassifier\n",
    "from sklearn.pipeline import Pipeline\n",
    "from sklearn.preprocessing import OneHotEncoder, OrdinalEncoder, MinMaxScaler\n",
    "from sklearn.svm import SVC\n",
    "from sklearn.tree import DecisionTreeClassifier\n",
    "from tqdm import tqdm"
   ]
  },
  {
   "cell_type": "code",
   "execution_count": 52,
   "metadata": {},
   "outputs": [],
   "source": [
    "# Function used to score the models, returns a dictionary of the scores\n",
    "def score_model(model, X_test, y_test, map = None):\n",
    "    model_preds = model.predict(X_test)\n",
    "    scores = {}\n",
    "    if map:\n",
    "        model_preds = [map[i] for i in model_preds]\n",
    "    evaluation_funcs = {'accuracy':accuracy_score, 'precision':precision_score, 'recall':recall_score, 'f1':f1_score, 'MCC':matthews_corrcoef}\n",
    "    for name, score in evaluation_funcs.items():\n",
    "        scores[name] = score(y_pred = model_preds, y_true = y_test)\n",
    "    scores['ROC-AUC'] = roc_auc_score(y_score = model_preds, y_true = y_test)\n",
    "    scores['AUPR'] = average_precision_score(y_score = model_preds, y_true = y_test)\n",
    "    return scores"
   ]
  },
  {
   "cell_type": "code",
   "execution_count": 53,
   "metadata": {},
   "outputs": [],
   "source": [
    "transaction_df = pd.read_csv('original_data.csv')\n",
    "transaction_df.replace(\"'\",'', regex=True, inplace=True) \n",
    "#Drop unused columns\n",
    "transaction_df.drop(columns = ['step', 'age', 'gender', 'zipcodeOri', 'zipMerchant'], inplace=True)\n",
    "#Split data to train, test\n",
    "train, test = train_test_split(transaction_df, random_state=42)"
   ]
  },
  {
   "cell_type": "code",
   "execution_count": 54,
   "metadata": {},
   "outputs": [],
   "source": [
    "# Create merchant fraud rate, 1 - 5 value of fraud rates in merchants in train set\n",
    "mechant_fraud_rate = pd.cut(train.groupby('merchant').mean('fraud')['fraud'], bins = 5, labels=range(5))\n",
    "train['merchant fraud rate'] = train['merchant'].apply(lambda x: mechant_fraud_rate.get(x))\n",
    "test['merchant fraud rate'] = test['merchant'].apply(lambda x: mechant_fraud_rate.get(x))"
   ]
  },
  {
   "cell_type": "code",
   "execution_count": 55,
   "metadata": {},
   "outputs": [],
   "source": [
    "# Create previous fraud per customer. 1 if there was fraud in the test set, 0 if not\n",
    "customer_previous_fraud = (train.groupby('customer').sum('fraud')['fraud'] > 0).astype(int)\n",
    "train['previous fraud'] = train['customer'].apply(lambda x: customer_previous_fraud.get(x))\n",
    "test['previous fraud'] = test['customer'].apply(lambda x: customer_previous_fraud.get(x))"
   ]
  },
  {
   "cell_type": "code",
   "execution_count": 56,
   "metadata": {},
   "outputs": [],
   "source": [
    "# Create category fraud rate, 1 - 5 value of fraud rate in train set\n",
    "category_fraud_rate = pd.cut(train.groupby('category').mean('fraud')['fraud'], bins = 5, labels = range(5))\n",
    "train['category fraud rate'] = train['category'].apply(lambda x: category_fraud_rate.get(x))\n",
    "test['category fraud rate'] = test['category'].apply(lambda x: category_fraud_rate.get(x))"
   ]
  },
  {
   "cell_type": "code",
   "execution_count": 57,
   "metadata": {},
   "outputs": [
    {
     "data": {
      "text/html": [
       "<div>\n",
       "<style scoped>\n",
       "    .dataframe tbody tr th:only-of-type {\n",
       "        vertical-align: middle;\n",
       "    }\n",
       "\n",
       "    .dataframe tbody tr th {\n",
       "        vertical-align: top;\n",
       "    }\n",
       "\n",
       "    .dataframe thead th {\n",
       "        text-align: right;\n",
       "    }\n",
       "</style>\n",
       "<table border=\"1\" class=\"dataframe\">\n",
       "  <thead>\n",
       "    <tr style=\"text-align: right;\">\n",
       "      <th></th>\n",
       "      <th>amount</th>\n",
       "      <th>fraud</th>\n",
       "      <th>merchant fraud rate</th>\n",
       "      <th>previous fraud</th>\n",
       "      <th>category fraud rate</th>\n",
       "    </tr>\n",
       "  </thead>\n",
       "  <tbody>\n",
       "    <tr>\n",
       "      <th>458422</th>\n",
       "      <td>40.54</td>\n",
       "      <td>0</td>\n",
       "      <td>0</td>\n",
       "      <td>0</td>\n",
       "      <td>0</td>\n",
       "    </tr>\n",
       "    <tr>\n",
       "      <th>102312</th>\n",
       "      <td>38.63</td>\n",
       "      <td>0</td>\n",
       "      <td>0</td>\n",
       "      <td>0</td>\n",
       "      <td>0</td>\n",
       "    </tr>\n",
       "    <tr>\n",
       "      <th>253447</th>\n",
       "      <td>61.62</td>\n",
       "      <td>0</td>\n",
       "      <td>0</td>\n",
       "      <td>1</td>\n",
       "      <td>0</td>\n",
       "    </tr>\n",
       "    <tr>\n",
       "      <th>585032</th>\n",
       "      <td>41.24</td>\n",
       "      <td>0</td>\n",
       "      <td>0</td>\n",
       "      <td>0</td>\n",
       "      <td>0</td>\n",
       "    </tr>\n",
       "    <tr>\n",
       "      <th>136214</th>\n",
       "      <td>4.74</td>\n",
       "      <td>0</td>\n",
       "      <td>0</td>\n",
       "      <td>0</td>\n",
       "      <td>0</td>\n",
       "    </tr>\n",
       "  </tbody>\n",
       "</table>\n",
       "</div>"
      ],
      "text/plain": [
       "        amount  fraud  merchant fraud rate  previous fraud  \\\n",
       "458422   40.54      0                    0               0   \n",
       "102312   38.63      0                    0               0   \n",
       "253447   61.62      0                    0               1   \n",
       "585032   41.24      0                    0               0   \n",
       "136214    4.74      0                    0               0   \n",
       "\n",
       "        category fraud rate  \n",
       "458422                    0  \n",
       "102312                    0  \n",
       "253447                    0  \n",
       "585032                    0  \n",
       "136214                    0  "
      ]
     },
     "execution_count": 57,
     "metadata": {},
     "output_type": "execute_result"
    }
   ],
   "source": [
    "train.drop(columns=['customer', 'merchant', 'category'], inplace=True)\n",
    "test.drop(columns=['customer', 'merchant', 'category'], inplace=True)\n",
    "train.head()"
   ]
  },
  {
   "cell_type": "code",
   "execution_count": 58,
   "metadata": {},
   "outputs": [],
   "source": [
    "# Make feature and target vectors\n",
    "y_train = train['fraud']\n",
    "X_train = train.drop(columns = ['fraud'])\n",
    "y_test = test['fraud']\n",
    "X_test = test.drop(columns = ['fraud'])"
   ]
  },
  {
   "cell_type": "code",
   "execution_count": 59,
   "metadata": {},
   "outputs": [],
   "source": [
    "#Fit transformer to data\n",
    "MMscaler = MinMaxScaler()\n",
    "X_train_transformed = MMscaler.fit_transform(X_train)\n",
    "X_test_transformed = MMscaler.transform(X_test)"
   ]
  },
  {
   "cell_type": "code",
   "execution_count": 60,
   "metadata": {},
   "outputs": [
    {
     "data": {
      "text/plain": [
       "{'accuracy': 0.9935894417500218,\n",
       " 'precision': 0.7455329636475663,\n",
       " 'recall': 0.6914285714285714,\n",
       " 'f1': 0.7174621998221168,\n",
       " 'MCC': 0.7147432892156179,\n",
       " 'ROC-AUC': 0.8443086727921764,\n",
       " 'AUPR': 0.5191152174589402}"
      ]
     },
     "execution_count": 60,
     "metadata": {},
     "output_type": "execute_result"
    }
   ],
   "source": [
    "#Decision Tree\n",
    "decision_tree = DecisionTreeClassifier(random_state=42)\n",
    "decision_tree.fit(X_train_transformed, y_train)\n",
    "dec_tree_scores = score_model(decision_tree, X_test_transformed, y_test)\n",
    "dec_tree_scores"
   ]
  },
  {
   "cell_type": "code",
   "execution_count": 61,
   "metadata": {},
   "outputs": [
    {
     "data": {
      "text/plain": [
       "{'accuracy': 0.9936096218914174,\n",
       " 'precision': 0.7442002442002442,\n",
       " 'recall': 0.6965714285714286,\n",
       " 'f1': 0.719598583234947,\n",
       " 'MCC': 0.7167709718976021,\n",
       " 'ROC-AUC': 0.8468596808368917,\n",
       " 'AUPR': 0.521960512272778}"
      ]
     },
     "execution_count": 61,
     "metadata": {},
     "output_type": "execute_result"
    }
   ],
   "source": [
    "# Random Forest\n",
    "random_forest = RandomForestClassifier(random_state=42, n_jobs=-1)\n",
    "random_forest.fit(X_train_transformed, y_train)\n",
    "random_forest_scores = score_model(random_forest, X_test_transformed, y_test)\n",
    "random_forest_scores"
   ]
  },
  {
   "cell_type": "code",
   "execution_count": 62,
   "metadata": {},
   "outputs": [
    {
     "data": {
      "text/plain": [
       "{'accuracy': 0.9946522625301861,\n",
       " 'precision': 0.8277282086479066,\n",
       " 'recall': 0.6891428571428572,\n",
       " 'f1': 0.7521047708138447,\n",
       " 'MCC': 0.752640913994761,\n",
       " 'ROC-AUC': 0.8437171698705824,\n",
       " 'AUPR': 0.5740823149517458}"
      ]
     },
     "execution_count": 62,
     "metadata": {},
     "output_type": "execute_result"
    }
   ],
   "source": [
    "# KNN\n",
    "KNN = KNeighborsClassifier(n_jobs=-1)\n",
    "KNN.fit(X_train_transformed, y_train)\n",
    "KNN_scores = score_model(KNN, X_test_transformed, y_test)\n",
    "KNN_scores"
   ]
  },
  {
   "cell_type": "code",
   "execution_count": 63,
   "metadata": {},
   "outputs": [
    {
     "data": {
      "text/plain": [
       "{'accuracy': 0.9949616913649175,\n",
       " 'precision': 0.802416918429003,\n",
       " 'recall': 0.7588571428571429,\n",
       " 'f1': 0.7800293685756241,\n",
       " 'MCC': 0.7777928716069064,\n",
       " 'ROC-AUC': 0.8783156527226883,\n",
       " 'AUPR': 0.6117584833222367}"
      ]
     },
     "execution_count": 63,
     "metadata": {},
     "output_type": "execute_result"
    }
   ],
   "source": [
    "#Multilayer perceptron\n",
    "MLP = MLPClassifier(hidden_layer_sizes=(15, 15, 15), random_state=42)\n",
    "MLP.fit(X_train_transformed, y_train)\n",
    "MLP_scores = score_model(MLP, X_test_transformed, y_test)\n",
    "MLP_scores"
   ]
  },
  {
   "cell_type": "code",
   "execution_count": 64,
   "metadata": {},
   "outputs": [
    {
     "data": {
      "text/plain": [
       "{'accuracy': 0.9951567660650742,\n",
       " 'precision': 0.8781204111600588,\n",
       " 'recall': 0.6834285714285714,\n",
       " 'f1': 0.7686375321336761,\n",
       " 'MCC': 0.7723821554655222,\n",
       " 'ROC-AUC': 0.8411493178085468,\n",
       " 'AUPR': 0.6038591775857622}"
      ]
     },
     "execution_count": 64,
     "metadata": {},
     "output_type": "execute_result"
    }
   ],
   "source": [
    "#Support Vector machine\n",
    "SVM = SVC(random_state=42)\n",
    "SVM.fit(X_train_transformed, y_train)\n",
    "SVM_scores = score_model(SVM, X_test_transformed, y_test)\n",
    "SVM_scores"
   ]
  },
  {
   "cell_type": "code",
   "execution_count": 65,
   "metadata": {},
   "outputs": [
    {
     "data": {
      "text/html": [
       "<style>#sk-container-id-2 {color: black;background-color: white;}#sk-container-id-2 pre{padding: 0;}#sk-container-id-2 div.sk-toggleable {background-color: white;}#sk-container-id-2 label.sk-toggleable__label {cursor: pointer;display: block;width: 100%;margin-bottom: 0;padding: 0.3em;box-sizing: border-box;text-align: center;}#sk-container-id-2 label.sk-toggleable__label-arrow:before {content: \"▸\";float: left;margin-right: 0.25em;color: #696969;}#sk-container-id-2 label.sk-toggleable__label-arrow:hover:before {color: black;}#sk-container-id-2 div.sk-estimator:hover label.sk-toggleable__label-arrow:before {color: black;}#sk-container-id-2 div.sk-toggleable__content {max-height: 0;max-width: 0;overflow: hidden;text-align: left;background-color: #f0f8ff;}#sk-container-id-2 div.sk-toggleable__content pre {margin: 0.2em;color: black;border-radius: 0.25em;background-color: #f0f8ff;}#sk-container-id-2 input.sk-toggleable__control:checked~div.sk-toggleable__content {max-height: 200px;max-width: 100%;overflow: auto;}#sk-container-id-2 input.sk-toggleable__control:checked~label.sk-toggleable__label-arrow:before {content: \"▾\";}#sk-container-id-2 div.sk-estimator input.sk-toggleable__control:checked~label.sk-toggleable__label {background-color: #d4ebff;}#sk-container-id-2 div.sk-label input.sk-toggleable__control:checked~label.sk-toggleable__label {background-color: #d4ebff;}#sk-container-id-2 input.sk-hidden--visually {border: 0;clip: rect(1px 1px 1px 1px);clip: rect(1px, 1px, 1px, 1px);height: 1px;margin: -1px;overflow: hidden;padding: 0;position: absolute;width: 1px;}#sk-container-id-2 div.sk-estimator {font-family: monospace;background-color: #f0f8ff;border: 1px dotted black;border-radius: 0.25em;box-sizing: border-box;margin-bottom: 0.5em;}#sk-container-id-2 div.sk-estimator:hover {background-color: #d4ebff;}#sk-container-id-2 div.sk-parallel-item::after {content: \"\";width: 100%;border-bottom: 1px solid gray;flex-grow: 1;}#sk-container-id-2 div.sk-label:hover label.sk-toggleable__label {background-color: #d4ebff;}#sk-container-id-2 div.sk-serial::before {content: \"\";position: absolute;border-left: 1px solid gray;box-sizing: border-box;top: 0;bottom: 0;left: 50%;z-index: 0;}#sk-container-id-2 div.sk-serial {display: flex;flex-direction: column;align-items: center;background-color: white;padding-right: 0.2em;padding-left: 0.2em;position: relative;}#sk-container-id-2 div.sk-item {position: relative;z-index: 1;}#sk-container-id-2 div.sk-parallel {display: flex;align-items: stretch;justify-content: center;background-color: white;position: relative;}#sk-container-id-2 div.sk-item::before, #sk-container-id-2 div.sk-parallel-item::before {content: \"\";position: absolute;border-left: 1px solid gray;box-sizing: border-box;top: 0;bottom: 0;left: 50%;z-index: -1;}#sk-container-id-2 div.sk-parallel-item {display: flex;flex-direction: column;z-index: 1;position: relative;background-color: white;}#sk-container-id-2 div.sk-parallel-item:first-child::after {align-self: flex-end;width: 50%;}#sk-container-id-2 div.sk-parallel-item:last-child::after {align-self: flex-start;width: 50%;}#sk-container-id-2 div.sk-parallel-item:only-child::after {width: 0;}#sk-container-id-2 div.sk-dashed-wrapped {border: 1px dashed gray;margin: 0 0.4em 0.5em 0.4em;box-sizing: border-box;padding-bottom: 0.4em;background-color: white;}#sk-container-id-2 div.sk-label label {font-family: monospace;font-weight: bold;display: inline-block;line-height: 1.2em;}#sk-container-id-2 div.sk-label-container {text-align: center;}#sk-container-id-2 div.sk-container {/* jupyter's `normalize.less` sets `[hidden] { display: none; }` but bootstrap.min.css set `[hidden] { display: none !important; }` so we also need the `!important` here to be able to override the default hidden behavior on the sphinx rendered scikit-learn.org. See: https://github.com/scikit-learn/scikit-learn/issues/21755 */display: inline-block !important;position: relative;}#sk-container-id-2 div.sk-text-repr-fallback {display: none;}</style><div id=\"sk-container-id-2\" class=\"sk-top-container\"><div class=\"sk-text-repr-fallback\"><pre>IsolationForest(contamination=0.01222022413460633, n_jobs=-1, random_state=42)</pre><b>In a Jupyter environment, please rerun this cell to show the HTML representation or trust the notebook. <br />On GitHub, the HTML representation is unable to render, please try loading this page with nbviewer.org.</b></div><div class=\"sk-container\" hidden><div class=\"sk-item\"><div class=\"sk-estimator sk-toggleable\"><input class=\"sk-toggleable__control sk-hidden--visually\" id=\"sk-estimator-id-2\" type=\"checkbox\" checked><label for=\"sk-estimator-id-2\" class=\"sk-toggleable__label sk-toggleable__label-arrow\">IsolationForest</label><div class=\"sk-toggleable__content\"><pre>IsolationForest(contamination=0.01222022413460633, n_jobs=-1, random_state=42)</pre></div></div></div></div></div>"
      ],
      "text/plain": [
       "IsolationForest(contamination=0.01222022413460633, n_jobs=-1, random_state=42)"
      ]
     },
     "execution_count": 65,
     "metadata": {},
     "output_type": "execute_result"
    }
   ],
   "source": [
    "#Isolation forest\n",
    "y_train_transformed = y_train.map({0:1, 1:-1})\n",
    "\n",
    "ISO = IsolationForest(contamination=sum(y_train)/len(y_train), random_state=42, n_jobs=-1)\n",
    "ISO.fit(X_train_transformed, y_train_transformed)"
   ]
  },
  {
   "cell_type": "code",
   "execution_count": 66,
   "metadata": {},
   "outputs": [
    {
     "data": {
      "text/plain": [
       "{'accuracy': 0.9936768890294024,\n",
       " 'precision': 0.7288135593220338,\n",
       " 'recall': 0.7371428571428571,\n",
       " 'f1': 0.7329545454545454,\n",
       " 'MCC': 0.7297672799466504,\n",
       " 'ROC-AUC': 0.8669377864343524,\n",
       " 'AUPR': 0.5403339977904129}"
      ]
     },
     "execution_count": 66,
     "metadata": {},
     "output_type": "execute_result"
    }
   ],
   "source": [
    "ISO_scores = score_model(ISO, X_test_transformed, y_test, map={1:0, -1:1})\n",
    "ISO_scores"
   ]
  },
  {
   "cell_type": "code",
   "execution_count": 67,
   "metadata": {},
   "outputs": [
    {
     "data": {
      "text/plain": [
       "{'accuracy': 0.9779027451719011,\n",
       " 'precision': 0.0006506180871828237,\n",
       " 'recall': 0.0005714285714285715,\n",
       " 'f1': 0.0006084575600851841,\n",
       " 'MCC': -0.010538893084049006,\n",
       " 'ROC-AUC': 0.49505805944707054,\n",
       " 'AUPR': 0.011765394215354621}"
      ]
     },
     "execution_count": 67,
     "metadata": {},
     "output_type": "execute_result"
    }
   ],
   "source": [
    "#Local Outlier Factor\n",
    "LOF = LocalOutlierFactor(novelty=True, contamination=sum(y_train)/len(y_train), n_jobs=-1)\n",
    "LOF.fit(X_train_transformed, y_train_transformed)\n",
    "LOF_scores = score_model(LOF, X_test_transformed, y_test, map={1:0, -1:1})\n",
    "LOF_scores"
   ]
  },
  {
   "cell_type": "code",
   "execution_count": 68,
   "metadata": {},
   "outputs": [],
   "source": [
    "scores = {\n",
    "            'Decision Tree': dec_tree_scores,\n",
    "            'Random Forest': random_forest_scores,\n",
    "            'K-NN': KNN_scores,\n",
    "            'MLP': MLP_scores,\n",
    "            'SVM': SVM_scores,\n",
    "            'LOF': LOF_scores,\n",
    "            'IF': ISO_scores\n",
    "            }\n",
    "scores_df = pd.DataFrame(scores)"
   ]
  },
  {
   "cell_type": "code",
   "execution_count": 70,
   "metadata": {},
   "outputs": [],
   "source": [
    "(100 * scores_df).round(2).T.to_csv('engineered_features_binned.csv')"
   ]
  }
 ],
 "metadata": {
  "kernelspec": {
   "display_name": "fraud",
   "language": "python",
   "name": "python3"
  },
  "language_info": {
   "codemirror_mode": {
    "name": "ipython",
    "version": 3
   },
   "file_extension": ".py",
   "mimetype": "text/x-python",
   "name": "python",
   "nbconvert_exporter": "python",
   "pygments_lexer": "ipython3",
   "version": "3.11.5"
  },
  "orig_nbformat": 4
 },
 "nbformat": 4,
 "nbformat_minor": 2
}
