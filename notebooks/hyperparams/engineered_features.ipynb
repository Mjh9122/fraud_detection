{
 "cells": [
  {
   "cell_type": "code",
   "execution_count": 1,
   "metadata": {},
   "outputs": [],
   "source": [
    "import pandas as pd\n",
    "import numpy as np\n",
    "import seaborn as sns\n",
    "\n",
    "from matplotlib import pyplot as plt\n",
    "\n",
    "from os import listdir\n",
    "from sklearn.compose import ColumnTransformer\n",
    "from sklearn.ensemble import RandomForestClassifier, IsolationForest\n",
    "from sklearn.metrics import f1_score, accuracy_score, matthews_corrcoef, precision_score, roc_auc_score, recall_score, average_precision_score, make_scorer\n",
    "from sklearn.model_selection import train_test_split, GridSearchCV\n",
    "from sklearn.neighbors import KNeighborsClassifier, LocalOutlierFactor\n",
    "from sklearn.neural_network import MLPClassifier\n",
    "from sklearn.pipeline import Pipeline\n",
    "from sklearn.preprocessing import OneHotEncoder, OrdinalEncoder, MinMaxScaler\n",
    "from sklearn.svm import SVC\n",
    "from sklearn.tree import DecisionTreeClassifier\n",
    "from tqdm import tqdm"
   ]
  },
  {
   "cell_type": "code",
   "execution_count": 2,
   "metadata": {},
   "outputs": [],
   "source": [
    "# Function used to score the models, returns a dictionary of the scores\n",
    "def score_model(model, X_test, y_test, map = None):\n",
    "    model_preds = model.predict(X_test)\n",
    "    scores = {}\n",
    "    if map:\n",
    "        model_preds = [map[i] for i in model_preds]\n",
    "    evaluation_funcs = {'accuracy':accuracy_score, 'precision':precision_score, 'recall':recall_score, 'f1':f1_score, 'MCC':matthews_corrcoef}\n",
    "    for name, score in evaluation_funcs.items():\n",
    "        scores[name] = score(y_pred = model_preds, y_true = y_test)\n",
    "    scores['ROC-AUC'] = roc_auc_score(y_score = model_preds, y_true = y_test)\n",
    "    scores['AUPR'] = average_precision_score(y_score = model_preds, y_true = y_test)\n",
    "    return scores"
   ]
  },
  {
   "cell_type": "code",
   "execution_count": 3,
   "metadata": {},
   "outputs": [],
   "source": [
    "transaction_df = pd.read_csv('original_data.csv')\n",
    "transaction_df.replace(\"'\",'', regex=True, inplace=True) \n",
    "#Drop unused columns\n",
    "transaction_df.drop(columns = ['step', 'age', 'gender', 'zipcodeOri', 'zipMerchant'], inplace=True)\n",
    "#Split data to train, test\n",
    "train, test = train_test_split(transaction_df, random_state=42)"
   ]
  },
  {
   "cell_type": "code",
   "execution_count": 4,
   "metadata": {},
   "outputs": [],
   "source": [
    "# Create merchant fraud rate, 1 - 5 value of fraud rates in merchants in train set\n",
    "mechant_fraud_rate = train.groupby('merchant').mean('fraud')['fraud']\n",
    "train['merchant fraud rate'] = train['merchant'].apply(lambda x: mechant_fraud_rate.get(x))\n",
    "test['merchant fraud rate'] = test['merchant'].apply(lambda x: mechant_fraud_rate.get(x))"
   ]
  },
  {
   "cell_type": "code",
   "execution_count": 5,
   "metadata": {},
   "outputs": [],
   "source": [
    "# Create previous fraud per customer. 1 if there was fraud in the test set, 0 if not\n",
    "customer_previous_fraud = train.groupby('customer').sum('fraud')['fraud']\n",
    "train['previous fraud'] = train['customer'].apply(lambda x: customer_previous_fraud.get(x))\n",
    "test['previous fraud'] = test['customer'].apply(lambda x: customer_previous_fraud.get(x))"
   ]
  },
  {
   "cell_type": "code",
   "execution_count": 6,
   "metadata": {},
   "outputs": [],
   "source": [
    "# Create category fraud rate, 1 - 5 value of fraud rate in train set\n",
    "category_fraud_rate = train.groupby('category').mean('fraud')['fraud']\n",
    "train['category fraud rate'] = train['category'].apply(lambda x: category_fraud_rate.get(x))\n",
    "test['category fraud rate'] = test['category'].apply(lambda x: category_fraud_rate.get(x))"
   ]
  },
  {
   "cell_type": "code",
   "execution_count": 7,
   "metadata": {},
   "outputs": [
    {
     "data": {
      "text/html": [
       "<div>\n",
       "<style scoped>\n",
       "    .dataframe tbody tr th:only-of-type {\n",
       "        vertical-align: middle;\n",
       "    }\n",
       "\n",
       "    .dataframe tbody tr th {\n",
       "        vertical-align: top;\n",
       "    }\n",
       "\n",
       "    .dataframe thead th {\n",
       "        text-align: right;\n",
       "    }\n",
       "</style>\n",
       "<table border=\"1\" class=\"dataframe\">\n",
       "  <thead>\n",
       "    <tr style=\"text-align: right;\">\n",
       "      <th></th>\n",
       "      <th>amount</th>\n",
       "      <th>fraud</th>\n",
       "      <th>merchant fraud rate</th>\n",
       "      <th>previous fraud</th>\n",
       "      <th>category fraud rate</th>\n",
       "    </tr>\n",
       "  </thead>\n",
       "  <tbody>\n",
       "    <tr>\n",
       "      <th>458422</th>\n",
       "      <td>40.54</td>\n",
       "      <td>0</td>\n",
       "      <td>0.0</td>\n",
       "      <td>0</td>\n",
       "      <td>0.0</td>\n",
       "    </tr>\n",
       "    <tr>\n",
       "      <th>102312</th>\n",
       "      <td>38.63</td>\n",
       "      <td>0</td>\n",
       "      <td>0.0</td>\n",
       "      <td>0</td>\n",
       "      <td>0.0</td>\n",
       "    </tr>\n",
       "    <tr>\n",
       "      <th>253447</th>\n",
       "      <td>61.62</td>\n",
       "      <td>0</td>\n",
       "      <td>0.0</td>\n",
       "      <td>6</td>\n",
       "      <td>0.0</td>\n",
       "    </tr>\n",
       "    <tr>\n",
       "      <th>585032</th>\n",
       "      <td>41.24</td>\n",
       "      <td>0</td>\n",
       "      <td>0.0</td>\n",
       "      <td>0</td>\n",
       "      <td>0.0</td>\n",
       "    </tr>\n",
       "    <tr>\n",
       "      <th>136214</th>\n",
       "      <td>4.74</td>\n",
       "      <td>0</td>\n",
       "      <td>0.0</td>\n",
       "      <td>0</td>\n",
       "      <td>0.0</td>\n",
       "    </tr>\n",
       "  </tbody>\n",
       "</table>\n",
       "</div>"
      ],
      "text/plain": [
       "        amount  fraud  merchant fraud rate  previous fraud  \\\n",
       "458422   40.54      0                  0.0               0   \n",
       "102312   38.63      0                  0.0               0   \n",
       "253447   61.62      0                  0.0               6   \n",
       "585032   41.24      0                  0.0               0   \n",
       "136214    4.74      0                  0.0               0   \n",
       "\n",
       "        category fraud rate  \n",
       "458422                  0.0  \n",
       "102312                  0.0  \n",
       "253447                  0.0  \n",
       "585032                  0.0  \n",
       "136214                  0.0  "
      ]
     },
     "execution_count": 7,
     "metadata": {},
     "output_type": "execute_result"
    }
   ],
   "source": [
    "train.drop(columns=['customer', 'merchant', 'category'], inplace=True)\n",
    "test.drop(columns=['customer', 'merchant', 'category'], inplace=True)\n",
    "train.head()"
   ]
  },
  {
   "cell_type": "code",
   "execution_count": 8,
   "metadata": {},
   "outputs": [],
   "source": [
    "# Make feature and target vectors\n",
    "y_train = train['fraud']\n",
    "X_train = train.drop(columns = ['fraud'])\n",
    "y_test = test['fraud']\n",
    "X_test = test.drop(columns = ['fraud'])"
   ]
  },
  {
   "cell_type": "code",
   "execution_count": 9,
   "metadata": {},
   "outputs": [],
   "source": [
    "#Fit transformer to data\n",
    "MMscaler = MinMaxScaler()\n",
    "X_train_transformed = MMscaler.fit_transform(X_train)\n",
    "X_test_transformed = MMscaler.transform(X_test)"
   ]
  },
  {
   "cell_type": "code",
   "execution_count": 10,
   "metadata": {},
   "outputs": [
    {
     "data": {
      "text/plain": [
       "{'accuracy': 0.994901150940731,\n",
       " 'precision': 0.7934911242603551,\n",
       " 'recall': 0.7662857142857142,\n",
       " 'f1': 0.7796511627906977,\n",
       " 'MCC': 0.7771937008122901,\n",
       " 'ROC-AUC': 0.881955063172358,\n",
       " 'AUPR': 0.6107921388768104}"
      ]
     },
     "execution_count": 10,
     "metadata": {},
     "output_type": "execute_result"
    }
   ],
   "source": [
    "#Decision Tree\n",
    "decision_tree = DecisionTreeClassifier(random_state=42)\n",
    "decision_tree.fit(X_train_transformed, y_train)\n",
    "dec_tree_scores = score_model(decision_tree, X_test_transformed, y_test)\n",
    "dec_tree_scores"
   ]
  },
  {
   "cell_type": "code",
   "execution_count": 11,
   "metadata": {},
   "outputs": [
    {
     "data": {
      "text/plain": [
       "{'accuracy': 0.9955200086101936,\n",
       " 'precision': 0.8292831105710814,\n",
       " 'recall': 0.78,\n",
       " 'f1': 0.8038869257950529,\n",
       " 'MCC': 0.802008103408122,\n",
       " 'ROC-AUC': 0.8890436386655867,\n",
       " 'AUPR': 0.649430611057869}"
      ]
     },
     "execution_count": 11,
     "metadata": {},
     "output_type": "execute_result"
    }
   ],
   "source": [
    "# Random Forest\n",
    "random_forest = RandomForestClassifier(random_state=42, n_jobs=-1)\n",
    "random_forest.fit(X_train_transformed, y_train)\n",
    "random_forest_scores = score_model(random_forest, X_test_transformed, y_test)\n",
    "random_forest_scores"
   ]
  },
  {
   "cell_type": "code",
   "execution_count": 12,
   "metadata": {},
   "outputs": [
    {
     "data": {
      "text/plain": [
       "{'accuracy': 0.9964684752557833,\n",
       " 'precision': 0.8820960698689956,\n",
       " 'recall': 0.808,\n",
       " 'f1': 0.8434237995824635,\n",
       " 'MCC': 0.8424699546757269,\n",
       " 'ROC-AUC': 0.9033567534085263,\n",
       " 'AUPR': 0.7149938002904471}"
      ]
     },
     "execution_count": 12,
     "metadata": {},
     "output_type": "execute_result"
    }
   ],
   "source": [
    "# KNN\n",
    "KNN = KNeighborsClassifier(n_jobs=-1)\n",
    "KNN.fit(X_train_transformed, y_train)\n",
    "KNN_scores = score_model(KNN, X_test_transformed, y_test)\n",
    "KNN_scores"
   ]
  },
  {
   "cell_type": "code",
   "execution_count": 13,
   "metadata": {},
   "outputs": [
    {
     "data": {
      "text/plain": [
       "{'accuracy': 0.9962734005556265,\n",
       " 'precision': 0.8903394255874674,\n",
       " 'recall': 0.7794285714285715,\n",
       " 'f1': 0.8312004875076173,\n",
       " 'MCC': 0.8312015226313816,\n",
       " 'ROC-AUC': 0.889142510966309,\n",
       " 'AUPR': 0.6965524980983987}"
      ]
     },
     "execution_count": 13,
     "metadata": {},
     "output_type": "execute_result"
    }
   ],
   "source": [
    "#Multilayer perceptron\n",
    "MLP = MLPClassifier(hidden_layer_sizes=(15, 15, 15), random_state=42)\n",
    "MLP.fit(X_train_transformed, y_train)\n",
    "MLP_scores = score_model(MLP, X_test_transformed, y_test)\n",
    "MLP_scores"
   ]
  },
  {
   "cell_type": "code",
   "execution_count": 14,
   "metadata": {},
   "outputs": [
    {
     "data": {
      "text/plain": [
       "{'accuracy': 0.996650096528343,\n",
       " 'precision': 0.9086161879895561,\n",
       " 'recall': 0.7954285714285714,\n",
       " 'f1': 0.8482632541133454,\n",
       " 'MCC': 0.8484929313011659,\n",
       " 'ROC-AUC': 0.8972378067576385,\n",
       " 'AUPR': 0.7251474399292727}"
      ]
     },
     "execution_count": 14,
     "metadata": {},
     "output_type": "execute_result"
    }
   ],
   "source": [
    "#Support Vector machine\n",
    "SVM = SVC(random_state=42)\n",
    "SVM.fit(X_train_transformed, y_train)\n",
    "SVM_scores = score_model(SVM, X_test_transformed, y_test)\n",
    "SVM_scores"
   ]
  },
  {
   "cell_type": "code",
   "execution_count": 15,
   "metadata": {},
   "outputs": [
    {
     "data": {
      "text/plain": [
       "{'accuracy': 0.9953854743342235,\n",
       " 'precision': 0.7975391498881432,\n",
       " 'recall': 0.8148571428571428,\n",
       " 'f1': 0.8061051441492368,\n",
       " 'MCC': 0.803817856401139,\n",
       " 'ROC-AUC': 0.9061965329835266,\n",
       " 'AUPR': 0.6520599282652836}"
      ]
     },
     "execution_count": 15,
     "metadata": {},
     "output_type": "execute_result"
    }
   ],
   "source": [
    "#Isolation forest\n",
    "y_train_transformed = y_train.map({0:1, 1:-1})\n",
    "\n",
    "ISO = IsolationForest(contamination=sum(y_train)/len(y_train), random_state=42, n_jobs=-1)\n",
    "ISO.fit(X_train_transformed, y_train_transformed)\n",
    "ISO_scores = score_model(ISO, X_test_transformed, y_test, map={1:0, -1:1})\n",
    "ISO_scores"
   ]
  },
  {
   "cell_type": "code",
   "execution_count": 16,
   "metadata": {},
   "outputs": [
    {
     "data": {
      "text/plain": [
       "{'accuracy': 0.978561963124155,\n",
       " 'precision': 0.11183144246353323,\n",
       " 'recall': 0.11828571428571429,\n",
       " 'f1': 0.11496806442654818,\n",
       " 'MCC': 0.10416826375281,\n",
       " 'ROC-AUC': 0.5535476328233713,\n",
       " 'AUPR': 0.023607381442498653}"
      ]
     },
     "execution_count": 16,
     "metadata": {},
     "output_type": "execute_result"
    }
   ],
   "source": [
    "#Local Outlier Factor\n",
    "LOF = LocalOutlierFactor(novelty=True, contamination=sum(y_train)/len(y_train), n_jobs=-1)\n",
    "LOF.fit(X_train_transformed)\n",
    "LOF_scores = score_model(LOF, X_test_transformed, y_test, map={1:0, -1:1})\n",
    "LOF_scores"
   ]
  },
  {
   "cell_type": "code",
   "execution_count": 17,
   "metadata": {},
   "outputs": [
    {
     "data": {
      "image/png": "[encoded data removed]",
      "text/plain": [
       "<Figure size 640x480 with 1 Axes>"
      ]
     },
     "metadata": {},
     "output_type": "display_data"
    },
    {
     "ename": "",
     "evalue": "",
     "output_type": "error",
     "traceback": [
      "\u001b[1;31mThe Kernel crashed while executing code in the the current cell or a previous cell. Please review the code in the cell(s) to identify a possible cause of the failure. Click <a href='https://aka.ms/vscodeJupyterKernelCrash'>here</a> for more info. View Jupyter <a href='command:jupyter.viewOutput'>log</a> for further details."
     ]
    }
   ],
   "source": [
    "#LOF fun\n",
    "from IPython.display import clear_output\n",
    "\n",
    "roc_aucs = []\n",
    "for n in range(1, 20):\n",
    "    clear_output(wait=True)\n",
    "    LOF = LocalOutlierFactor(novelty=True, n_neighbors=2**n, contamination=sum(y_train)/len(y_train), n_jobs=-1)\n",
    "    LOF.fit(X_train_transformed)\n",
    "    LOF_scores = score_model(LOF, X_test_transformed, y_test, map={1:0, -1:1})\n",
    "    roc_aucs.append(LOF_scores['ROC-AUC'])\n",
    "    plt.plot(roc_aucs)\n",
    "    plt.show()"
   ]
  },
  {
   "cell_type": "code",
   "execution_count": null,
   "metadata": {},
   "outputs": [],
   "source": [
    "scores = {\n",
    "            'Decision Tree': dec_tree_scores,\n",
    "            'Random Forest': random_forest_scores,\n",
    "            'K-NN': KNN_scores,\n",
    "            'MLP': MLP_scores,\n",
    "            'SVM': SVM_scores,\n",
    "            'LOF': LOF_scores,\n",
    "            'IF': ISO_scores\n",
    "            }\n",
    "scores_df = pd.DataFrame(scores)"
   ]
  },
  {
   "cell_type": "code",
   "execution_count": null,
   "metadata": {},
   "outputs": [],
   "source": [
    "(100 * scores_df).round(2).T.to_csv('engineered_features.csv')"
   ]
  }
 ],
 "metadata": {
  "kernelspec": {
   "display_name": "fraud",
   "language": "python",
   "name": "python3"
  },
  "language_info": {
   "codemirror_mode": {
    "name": "ipython",
    "version": 3
   },
   "file_extension": ".py",
   "mimetype": "text/x-python",
   "name": "python",
   "nbconvert_exporter": "python",
   "pygments_lexer": "ipython3",
   "version": "3.11.5"
  },
  "orig_nbformat": 4
 },
 "nbformat": 4,
 "nbformat_minor": 2
}
