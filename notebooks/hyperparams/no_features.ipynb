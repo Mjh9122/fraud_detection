{
 "cells": [
  {
   "cell_type": "code",
   "execution_count": 37,
   "metadata": {},
   "outputs": [],
   "source": [
    "import pandas as pd\n",
    "import numpy as np\n",
    "import seaborn as sns\n",
    "\n",
    "from matplotlib import pyplot as plt\n",
    "\n",
    "from os import listdir\n",
    "from sklearn.compose import ColumnTransformer\n",
    "from sklearn.ensemble import RandomForestClassifier, IsolationForest\n",
    "from sklearn.metrics import f1_score, accuracy_score, matthews_corrcoef, precision_score, roc_auc_score, recall_score, average_precision_score, make_scorer\n",
    "from sklearn.model_selection import train_test_split, GridSearchCV\n",
    "from sklearn.neighbors import KNeighborsClassifier, LocalOutlierFactor\n",
    "from sklearn.neural_network import MLPClassifier\n",
    "from sklearn.pipeline import Pipeline\n",
    "from sklearn.preprocessing import OneHotEncoder, OrdinalEncoder, MinMaxScaler\n",
    "from sklearn.svm import SVC\n",
    "from sklearn.tree import DecisionTreeClassifier\n",
    "from tqdm import tqdm"
   ]
  },
  {
   "cell_type": "code",
   "execution_count": 38,
   "metadata": {},
   "outputs": [],
   "source": [
    "def score_model(model, X_test, y_test, map = None):\n",
    "    model_preds = model.predict(X_test)\n",
    "    scores = {}\n",
    "    if map:\n",
    "        model_preds = [map[i] for i in model_preds]\n",
    "    evaluation_funcs = {'accuracy':accuracy_score, 'precision':precision_score, 'recall':recall_score, 'f1':f1_score, 'MCC':matthews_corrcoef}\n",
    "    for name, score in evaluation_funcs.items():\n",
    "        scores[name] = score(y_pred = model_preds, y_true = y_test)\n",
    "    scores['ROC-AUC'] = roc_auc_score(y_score = model_preds, y_true = y_test)\n",
    "    scores['AUPR'] = average_precision_score(y_score = model_preds, y_true = y_test)\n",
    "    return scores"
   ]
  },
  {
   "cell_type": "code",
   "execution_count": 39,
   "metadata": {},
   "outputs": [],
   "source": [
    "transaction_df = pd.read_csv('original_data.csv')\n",
    "#Split data to x, y, train, test\n",
    "y = transaction_df['fraud']\n",
    "X = transaction_df.drop(columns=['fraud'])\n",
    "X_train, X_test, y_train, y_test = train_test_split(X, y, random_state=42)"
   ]
  },
  {
   "cell_type": "code",
   "execution_count": 40,
   "metadata": {},
   "outputs": [],
   "source": [
    "#Fit transformer to data\n",
    "transformer = ColumnTransformer([('One Hot Encoder', OneHotEncoder(drop='first'), ['category', 'gender']),\n",
    "                                 ('Age Pipe', Pipeline([('ord', OrdinalEncoder(handle_unknown='use_encoded_value', unknown_value=-1)), ('scale', MinMaxScaler())]), ['age']),\n",
    "                                 ('MinMaxScaler', MinMaxScaler(), ['amount', 'step']),\n",
    "                                 ('drop', 'drop', ['zipcodeOri', 'zipMerchant', 'customer', 'merchant'])], remainder = MinMaxScaler(), sparse_threshold=0)\n",
    "transformer.fit(X_train)\n",
    "X_train_transformed = transformer.transform(X_train)\n",
    "X_test_transformed = transformer.transform(X_test)"
   ]
  },
  {
   "cell_type": "code",
   "execution_count": 41,
   "metadata": {},
   "outputs": [
    {
     "data": {
      "text/plain": [
       "{'accuracy': 0.9913090857723277,\n",
       " 'precision': 0.6225910064239829,\n",
       " 'recall': 0.6645714285714286,\n",
       " 'f1': 0.6428966279712548,\n",
       " 'MCC': 0.6388506653966829,\n",
       " 'ROC-AUC': 0.8298863023968837,\n",
       " 'AUPR': 0.41770477555463403}"
      ]
     },
     "execution_count": 41,
     "metadata": {},
     "output_type": "execute_result"
    }
   ],
   "source": [
    "#Decision Tree\n",
    "decision_tree = DecisionTreeClassifier(random_state=42)\n",
    "decision_tree.fit(X_train_transformed, y_train)\n",
    "dec_tree_scores = score_model(decision_tree, X_test_transformed, y_test)\n",
    "dec_tree_scores"
   ]
  },
  {
   "cell_type": "code",
   "execution_count": 42,
   "metadata": {},
   "outputs": [
    {
     "data": {
      "text/plain": [
       "{'accuracy': 0.9947464365233653,\n",
       " 'precision': 0.862378459237098,\n",
       " 'recall': 0.6588571428571428,\n",
       " 'f1': 0.747003563330094,\n",
       " 'MCC': 0.7512917590930227,\n",
       " 'ROC-AUC': 0.8288023419426922,\n",
       " 'AUPR': 0.5722000558522087}"
      ]
     },
     "execution_count": 42,
     "metadata": {},
     "output_type": "execute_result"
    }
   ],
   "source": [
    "# Random Forest\n",
    "random_forest = RandomForestClassifier(random_state=42, n_jobs=-1)\n",
    "random_forest.fit(X_train_transformed, y_train)\n",
    "random_forest_scores = score_model(random_forest, X_test_transformed, y_test)\n",
    "random_forest_scores"
   ]
  },
  {
   "cell_type": "code",
   "execution_count": 43,
   "metadata": {},
   "outputs": [
    {
     "data": {
      "text/plain": [
       "{'accuracy': 0.9928024162355964,\n",
       " 'precision': 0.8393213572854291,\n",
       " 'recall': 0.4805714285714286,\n",
       " 'f1': 0.6111918604651163,\n",
       " 'MCC': 0.6320461710849047,\n",
       " 'ROC-AUC': 0.7397377634855701,\n",
       " 'AUPR': 0.4094684465440129}"
      ]
     },
     "execution_count": 43,
     "metadata": {},
     "output_type": "execute_result"
    }
   ],
   "source": [
    "# KNN\n",
    "KNN = KNeighborsClassifier(n_jobs=-1)\n",
    "KNN.fit(X_train_transformed, y_train)\n",
    "KNN_scores = score_model(KNN, X_test_transformed, y_test)\n",
    "KNN_scores"
   ]
  },
  {
   "cell_type": "code",
   "execution_count": 44,
   "metadata": {},
   "outputs": [
    {
     "data": {
      "text/plain": [
       "{'accuracy': 0.9949751447925145,\n",
       " 'precision': 0.9563239308462238,\n",
       " 'recall': 0.6005714285714285,\n",
       " 'f1': 0.7378027378027378,\n",
       " 'MCC': 0.7557678326203371,\n",
       " 'ROC-AUC': 0.8001223500720067,\n",
       " 'AUPR': 0.5790428022705177}"
      ]
     },
     "execution_count": 44,
     "metadata": {},
     "output_type": "execute_result"
    }
   ],
   "source": [
    "#Multilayer perceptron\n",
    "MLP = MLPClassifier(hidden_layer_sizes=(15, 15, 15), random_state=42)\n",
    "MLP.fit(X_train_transformed, y_train)\n",
    "MLP_scores = score_model(MLP, X_test_transformed, y_test)\n",
    "MLP_scores"
   ]
  },
  {
   "cell_type": "code",
   "execution_count": 45,
   "metadata": {},
   "outputs": [
    {
     "data": {
      "text/plain": [
       "{'accuracy': 0.9153241267043811,\n",
       " 'precision': 0.12136668529904975,\n",
       " 'recall': 0.9925714285714285,\n",
       " 'f1': 0.21628688830780726,\n",
       " 'MCC': 0.33164564650216777,\n",
       " 'ROC-AUC': 0.9534876937154368,\n",
       " 'AUPR': 0.12055255148763741}"
      ]
     },
     "execution_count": 45,
     "metadata": {},
     "output_type": "execute_result"
    }
   ],
   "source": [
    "#Support Vector machine\n",
    "SVM = SVC(class_weight='balanced', random_state=42)\n",
    "SVM.fit(X_train_transformed, y_train)\n",
    "SVM_scores = score_model(SVM, X_test_transformed, y_test)\n",
    "SVM_scores"
   ]
  },
  {
   "cell_type": "code",
   "execution_count": 46,
   "metadata": {},
   "outputs": [
    {
     "data": {
      "text/html": [
       "<style>#sk-container-id-5 {color: black;background-color: white;}#sk-container-id-5 pre{padding: 0;}#sk-container-id-5 div.sk-toggleable {background-color: white;}#sk-container-id-5 label.sk-toggleable__label {cursor: pointer;display: block;width: 100%;margin-bottom: 0;padding: 0.3em;box-sizing: border-box;text-align: center;}#sk-container-id-5 label.sk-toggleable__label-arrow:before {content: \"▸\";float: left;margin-right: 0.25em;color: #696969;}#sk-container-id-5 label.sk-toggleable__label-arrow:hover:before {color: black;}#sk-container-id-5 div.sk-estimator:hover label.sk-toggleable__label-arrow:before {color: black;}#sk-container-id-5 div.sk-toggleable__content {max-height: 0;max-width: 0;overflow: hidden;text-align: left;background-color: #f0f8ff;}#sk-container-id-5 div.sk-toggleable__content pre {margin: 0.2em;color: black;border-radius: 0.25em;background-color: #f0f8ff;}#sk-container-id-5 input.sk-toggleable__control:checked~div.sk-toggleable__content {max-height: 200px;max-width: 100%;overflow: auto;}#sk-container-id-5 input.sk-toggleable__control:checked~label.sk-toggleable__label-arrow:before {content: \"▾\";}#sk-container-id-5 div.sk-estimator input.sk-toggleable__control:checked~label.sk-toggleable__label {background-color: #d4ebff;}#sk-container-id-5 div.sk-label input.sk-toggleable__control:checked~label.sk-toggleable__label {background-color: #d4ebff;}#sk-container-id-5 input.sk-hidden--visually {border: 0;clip: rect(1px 1px 1px 1px);clip: rect(1px, 1px, 1px, 1px);height: 1px;margin: -1px;overflow: hidden;padding: 0;position: absolute;width: 1px;}#sk-container-id-5 div.sk-estimator {font-family: monospace;background-color: #f0f8ff;border: 1px dotted black;border-radius: 0.25em;box-sizing: border-box;margin-bottom: 0.5em;}#sk-container-id-5 div.sk-estimator:hover {background-color: #d4ebff;}#sk-container-id-5 div.sk-parallel-item::after {content: \"\";width: 100%;border-bottom: 1px solid gray;flex-grow: 1;}#sk-container-id-5 div.sk-label:hover label.sk-toggleable__label {background-color: #d4ebff;}#sk-container-id-5 div.sk-serial::before {content: \"\";position: absolute;border-left: 1px solid gray;box-sizing: border-box;top: 0;bottom: 0;left: 50%;z-index: 0;}#sk-container-id-5 div.sk-serial {display: flex;flex-direction: column;align-items: center;background-color: white;padding-right: 0.2em;padding-left: 0.2em;position: relative;}#sk-container-id-5 div.sk-item {position: relative;z-index: 1;}#sk-container-id-5 div.sk-parallel {display: flex;align-items: stretch;justify-content: center;background-color: white;position: relative;}#sk-container-id-5 div.sk-item::before, #sk-container-id-5 div.sk-parallel-item::before {content: \"\";position: absolute;border-left: 1px solid gray;box-sizing: border-box;top: 0;bottom: 0;left: 50%;z-index: -1;}#sk-container-id-5 div.sk-parallel-item {display: flex;flex-direction: column;z-index: 1;position: relative;background-color: white;}#sk-container-id-5 div.sk-parallel-item:first-child::after {align-self: flex-end;width: 50%;}#sk-container-id-5 div.sk-parallel-item:last-child::after {align-self: flex-start;width: 50%;}#sk-container-id-5 div.sk-parallel-item:only-child::after {width: 0;}#sk-container-id-5 div.sk-dashed-wrapped {border: 1px dashed gray;margin: 0 0.4em 0.5em 0.4em;box-sizing: border-box;padding-bottom: 0.4em;background-color: white;}#sk-container-id-5 div.sk-label label {font-family: monospace;font-weight: bold;display: inline-block;line-height: 1.2em;}#sk-container-id-5 div.sk-label-container {text-align: center;}#sk-container-id-5 div.sk-container {/* jupyter's `normalize.less` sets `[hidden] { display: none; }` but bootstrap.min.css set `[hidden] { display: none !important; }` so we also need the `!important` here to be able to override the default hidden behavior on the sphinx rendered scikit-learn.org. See: https://github.com/scikit-learn/scikit-learn/issues/21755 */display: inline-block !important;position: relative;}#sk-container-id-5 div.sk-text-repr-fallback {display: none;}</style><div id=\"sk-container-id-5\" class=\"sk-top-container\"><div class=\"sk-text-repr-fallback\"><pre>IsolationForest(contamination=0.01222022413460633, n_jobs=-1, random_state=42)</pre><b>In a Jupyter environment, please rerun this cell to show the HTML representation or trust the notebook. <br />On GitHub, the HTML representation is unable to render, please try loading this page with nbviewer.org.</b></div><div class=\"sk-container\" hidden><div class=\"sk-item\"><div class=\"sk-estimator sk-toggleable\"><input class=\"sk-toggleable__control sk-hidden--visually\" id=\"sk-estimator-id-5\" type=\"checkbox\" checked><label for=\"sk-estimator-id-5\" class=\"sk-toggleable__label sk-toggleable__label-arrow\">IsolationForest</label><div class=\"sk-toggleable__content\"><pre>IsolationForest(contamination=0.01222022413460633, n_jobs=-1, random_state=42)</pre></div></div></div></div></div>"
      ],
      "text/plain": [
       "IsolationForest(contamination=0.01222022413460633, n_jobs=-1, random_state=42)"
      ]
     },
     "execution_count": 46,
     "metadata": {},
     "output_type": "execute_result"
    }
   ],
   "source": [
    "#Isolation forest\n",
    "y_train_transformed = y_train.map({0:1, 1:-1})\n",
    "\n",
    "ISO = IsolationForest(contamination=sum(y_train)/len(y_train), random_state=42, n_jobs=-1)\n",
    "ISO.fit(X_train_transformed, y_train_transformed)"
   ]
  },
  {
   "cell_type": "code",
   "execution_count": 47,
   "metadata": {},
   "outputs": [
    {
     "data": {
      "text/plain": [
       "{'accuracy': 0.983156308648536,\n",
       " 'precision': 0.29240088105726875,\n",
       " 'recall': 0.30342857142857144,\n",
       " 'f1': 0.297812675266405,\n",
       " 'MCC': 0.28934232118595815,\n",
       " 'ROC-AUC': 0.6473408895764879,\n",
       " 'AUPR': 0.09692264574404397}"
      ]
     },
     "execution_count": 47,
     "metadata": {},
     "output_type": "execute_result"
    }
   ],
   "source": [
    "ISO_scores = score_model(ISO, X_test_transformed, y_test, map={1:0, -1:1})\n",
    "ISO_scores"
   ]
  },
  {
   "cell_type": "code",
   "execution_count": 48,
   "metadata": {},
   "outputs": [
    {
     "data": {
      "text/plain": [
       "{'accuracy': 0.9784946959861699,\n",
       " 'precision': 0.10356164383561643,\n",
       " 'recall': 0.108,\n",
       " 'f1': 0.10573426573426573,\n",
       " 'MCC': 0.09487699071658544,\n",
       " 'ROC-AUC': 0.5484320030494654,\n",
       " 'AUPR': 0.021685057773717584}"
      ]
     },
     "execution_count": 48,
     "metadata": {},
     "output_type": "execute_result"
    }
   ],
   "source": [
    "#Local Outlier Factor\n",
    "LOF = LocalOutlierFactor(novelty=True, contamination=sum(y_train)/len(y_train), n_jobs=-1)\n",
    "LOF.fit(X_train_transformed, y_train)\n",
    "LOF_scores = score_model(LOF, X_test_transformed, y_test, map={1:0, -1:1})\n",
    "LOF_scores"
   ]
  },
  {
   "cell_type": "code",
   "execution_count": 49,
   "metadata": {},
   "outputs": [],
   "source": [
    "scores = {\n",
    "            'Decision Tree': dec_tree_scores,\n",
    "            'Random Forest': random_forest_scores,\n",
    "            'K-NN': KNN_scores,\n",
    "            'MLP': MLP_scores,\n",
    "            'SVM': SVM_scores,\n",
    "            'LOF': LOF_scores,\n",
    "            'IF': ISO_scores\n",
    "            }\n",
    "scores_df = pd.DataFrame(scores)"
   ]
  },
  {
   "cell_type": "code",
   "execution_count": null,
   "metadata": {},
   "outputs": [],
   "source": [
    "scores_df.T.to_csv('no_feature_scores.csv')"
   ]
  },
  {
   "cell_type": "code",
   "execution_count": null,
   "metadata": {},
   "outputs": [],
   "source": []
  }
 ],
 "metadata": {
  "kernelspec": {
   "display_name": "fraud",
   "language": "python",
   "name": "python3"
  },
  "language_info": {
   "codemirror_mode": {
    "name": "ipython",
    "version": 3
   },
   "file_extension": ".py",
   "mimetype": "text/x-python",
   "name": "python",
   "nbconvert_exporter": "python",
   "pygments_lexer": "ipython3",
   "version": "3.11.5"
  },
  "orig_nbformat": 4
 },
 "nbformat": 4,
 "nbformat_minor": 2
}
